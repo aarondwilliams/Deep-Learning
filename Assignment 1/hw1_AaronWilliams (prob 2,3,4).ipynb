{
 "cells": [
  {
   "cell_type": "markdown",
   "metadata": {},
   "source": [
    "# Introduction to Deep Learning, HW 1 Template\n",
    "This document gives a suggested outline for the coding assignment.  Please see the assignment pdf for a more complete description of the assignment."
   ]
  },
  {
   "cell_type": "markdown",
   "metadata": {},
   "source": [
    "**[Duke Community Standard](http://integrity.duke.edu/standard.html): By typing your name below, you are certifying that you have adhered to the Duke Community Standard in completing this assignment.**\n",
    "\n",
    "Name: Aaron Williams"
   ]
  },
  {
   "cell_type": "code",
   "execution_count": 1,
   "metadata": {},
   "outputs": [
    {
     "name": "stderr",
     "output_type": "stream",
     "text": [
      "C:\\Users\\Zenaardvark\\Anaconda3\\lib\\site-packages\\h5py\\__init__.py:36: FutureWarning: Conversion of the second argument of issubdtype from `float` to `np.floating` is deprecated. In future, it will be treated as `np.float64 == np.dtype(float).type`.\n",
      "  from ._conv import register_converters as _register_converters\n"
     ]
    }
   ],
   "source": [
    "import numpy as np\n",
    "import tensorflow as tf\n",
    "import matplotlib.pyplot as plt\n",
    "from tqdm import trange         \n",
    "% matplotlib inline"
   ]
  },
  {
   "cell_type": "markdown",
   "metadata": {},
   "source": [
    "## Problem 2: Algorithmic Implementation of a Multi-Class Logistic Regression without Tensorflow (30 Points)"
   ]
  },
  {
   "cell_type": "markdown",
   "metadata": {},
   "source": [
    "Succintly, for this problem we have an input image that we have vectorized to have $p=784$ features, and the output space is $C=10$ dimensional.  To get the full details on logistic regression, please visit the example codes and and the lectures.  Succinctly, the multiclass logistic regression model is as follows:\n",
    "\n",
    "$$\\mathbf{\\gamma}=\\mathbf{W}\\mathbf{x}+\\mathbf{b},\\quad \\mathbf{W}\\in\\mathbb{R}^{C\\times p},\\quad \\mathbf{b}\\in\\mathbb{R}^{C}$$\n",
    "$$ p(y=j)=\\text{softmax}(\\mathbf{\\gamma})_j$$\n",
    "$$\\ell(y,\\gamma)=\\sum_{j=1}^C1_{(y=j)}\\log(\\text{softmax}(\\mathbf{\\gamma})_j)$$\n",
    "or, if $\\mathbf{r}$ is a one-hot encoding of $y$, then\n",
    "$$\\ell(r,\\gamma)=\\mathbf{r}\\cdot \\log(\\text{softmax}(\\mathbf{\\gamma}))$$\n",
    "We want to implement this model in more basic codes and learn it to build a better understanding of what's going on before moving to using deep learning toolkits."
   ]
  },
  {
   "cell_type": "markdown",
   "metadata": {},
   "source": [
    "In is permissable in the context of this problem to use the MNIST dataset and minibatcher from Tensorflow, which should reduce the amount of bespoke coding that you have to do.\n",
    "\n",
    "Note that this function is depreciated, but it will work for now."
   ]
  },
  {
   "cell_type": "code",
   "execution_count": null,
   "metadata": {},
   "outputs": [
    {
     "name": "stdout",
     "output_type": "stream",
     "text": [
      "WARNING:tensorflow:From <ipython-input-3-8bf8ae5a5303>:2: read_data_sets (from tensorflow.contrib.learn.python.learn.datasets.mnist) is deprecated and will be removed in a future version.\n",
      "Instructions for updating:\n",
      "Please use alternatives such as official/mnist/dataset.py from tensorflow/models.\n",
      "WARNING:tensorflow:From C:\\Users\\Zenaardvark\\Anaconda3\\lib\\site-packages\\tensorflow\\contrib\\learn\\python\\learn\\datasets\\mnist.py:260: maybe_download (from tensorflow.contrib.learn.python.learn.datasets.base) is deprecated and will be removed in a future version.\n",
      "Instructions for updating:\n",
      "Please write your own downloading logic.\n",
      "WARNING:tensorflow:From C:\\Users\\Zenaardvark\\Anaconda3\\lib\\site-packages\\tensorflow\\contrib\\learn\\python\\learn\\datasets\\mnist.py:262: extract_images (from tensorflow.contrib.learn.python.learn.datasets.mnist) is deprecated and will be removed in a future version.\n",
      "Instructions for updating:\n",
      "Please use tf.data to implement this functionality.\n",
      "Extracting MNIST_data/train-images-idx3-ubyte.gz\n"
     ]
    }
   ],
   "source": [
    "from tensorflow.examples.tutorials.mnist import input_data\n",
    "mnist = input_data.read_data_sets(\"MNIST_data/\", one_hot=True)"
   ]
  },
  {
   "cell_type": "markdown",
   "metadata": {},
   "source": [
    "Visualizing the data to make sure that its understood:"
   ]
  },
  {
   "cell_type": "code",
   "execution_count": null,
   "metadata": {},
   "outputs": [],
   "source": [
    "# Dataset statistics# Datas \n",
    "print('Training image data: ', mnist.train.images.shape)\n",
    "print('Testing image data: ', mnist.test.images.shape)\n",
    "print('28 x 28 = ', 28*28)\n",
    "\n",
    "# Example image\n",
    "print('\\nTrain image 1 is labelled one-hot as {0}'.format(mnist.train.labels[1,:]))\n",
    "image = np.reshape(mnist.train.images[1,:],[28,28])\n",
    "plt.imshow(image, cmap='gray')"
   ]
  },
  {
   "cell_type": "markdown",
   "metadata": {},
   "source": [
    "You can pull a new data example from MNIST by the following:\n",
    "\n",
    "Note that the digit will change each time you run this because it is randomly sampling."
   ]
  },
  {
   "cell_type": "code",
   "execution_count": 4,
   "metadata": {},
   "outputs": [
    {
     "name": "stdout",
     "output_type": "stream",
     "text": [
      "\n",
      "Train image 1 is labelled one-hot as [[1. 0. 0. 0. 0. 0. 0. 0. 0. 0.]]\n"
     ]
    },
    {
     "data": {
      "text/plain": [
       "<matplotlib.image.AxesImage at 0x2cf14109d68>"
      ]
     },
     "execution_count": 4,
     "metadata": {},
     "output_type": "execute_result"
    },
    {
     "data": {
      "image/png": "[encoded data removed]",
      "text/plain": [
       "<Figure size 432x288 with 1 Axes>"
      ]
     },
     "metadata": {},
     "output_type": "display_data"
    }
   ],
   "source": [
    "current_data=mnist.train.next_batch(1)\n",
    "# Example image\n",
    "print('\\nTrain image 1 is labelled one-hot as {0}'.format(current_data[1]))\n",
    "image = np.reshape(current_data[0],[28,28])\n",
    "plt.imshow(image, cmap='gray')"
   ]
  },
  {
   "cell_type": "markdown",
   "metadata": {},
   "source": [
    "Below are the functions that you need to define to make this work."
   ]
  },
  {
   "cell_type": "code",
   "execution_count": 5,
   "metadata": {},
   "outputs": [],
   "source": [
    "def lr_gradient(W,b,data):\n",
    "    # calculate the gradient on the data\n",
    "    \n",
    "    grad = np.zeros((10,785))\n",
    "    \n",
    "    W_grad = np.zeros((10,784))\n",
    "    b_grad = np.zeros((10,1))\n",
    "    \n",
    "    batch_size = (data[0].shape)[0]\n",
    "    for i in range(0,batch_size):\n",
    "        z = b + np.dot(W,data[0][i]).reshape((10,1))\n",
    "        #print(\"current data is \" + str(np.dot(W,data[0][i]).shape) + \"and b is \" + str(b.shape))\n",
    "        #print(\"z is \" + str(z))\n",
    "        exp_sum = sum(np.exp(z))\n",
    "        #print(\"exp sum is\" + str(exp_sum))\n",
    "        dydz = ((exp_sum - np.exp(z)) * np.exp(z))/(exp_sum**2)\n",
    "        #print(\"dydz is\" + str(dydz))\n",
    "        dfdy = 2*(np.exp(z)/exp_sum - data[1][i].reshape((10,1)))\n",
    "        #print(\"dfdy is\" + str(dfdy))\n",
    "        final_x = np.concatenate(([1],data[0][i])).reshape((1,785))\n",
    "        #print(\"final x is \" + str(final_x.shape))\n",
    "        grad += (final_x * dydz * dfdy)/batch_size\n",
    "        #print(\"grad is \" + str(grad))\n",
    "    \n",
    "    b_grad = grad[:,0].reshape((10,1))\n",
    "    W_grad = grad[:,1:]\n",
    "        \n",
    "    return W_grad, b_grad"
   ]
  },
  {
   "cell_type": "code",
   "execution_count": 6,
   "metadata": {},
   "outputs": [],
   "source": [
    "def lr_loss(W,b,data):\n",
    "    # calculate the loss\n",
    "    avg_loss = 0\n",
    "        \n",
    "    batch_size = (data[0].shape)[0]\n",
    "    for i in range(0,batch_size):\n",
    "        z = b + np.dot(W,data[0][i]).reshape((10,1))\n",
    "        softmax = np.exp(z)/sum(np.exp(z))\n",
    "        #print(\"soft max is \" + str(softmax))\n",
    "        avg_loss -= np.log(softmax[np.argmax(data[1][i])])/batch_size\n",
    "    \n",
    "    #print(\"avg loss is \" + str(avg_loss))\n",
    "    return avg_loss"
   ]
  },
  {
   "cell_type": "markdown",
   "metadata": {},
   "source": [
    "Run the stochastic gradient descent optimization loop.  Note that you need to fill in the values to make this work well."
   ]
  },
  {
   "cell_type": "code",
   "execution_count": 7,
   "metadata": {},
   "outputs": [
    {
     "name": "stderr",
     "output_type": "stream",
     "text": [
      "100%|████████████████████████████████████████████████████████████████████████████| 10000/10000 [01:43<00:00, 96.32it/s]\n"
     ]
    }
   ],
   "source": [
    "max_iterations = 10000 # choose the max number of iterations\n",
    "step_size = .05 # choose your step size\n",
    "W = np.zeros((10,784)) # choose your starting parameters (connection weights)\n",
    "b = np.zeros((10,1)) # choose your starting parameters (biases)\n",
    "training_loss_history=[]\n",
    "\n",
    "#print(mnist.train.images.shape)\n",
    "\n",
    "for iter in trange(0,max_iterations):\n",
    "    current_data = mnist.train.next_batch(100)\n",
    "    # note you need to change this to your preferred data format.\n",
    "    W_grad,b_grad=lr_gradient(W,b,current_data)\n",
    "    training_loss_history.append(\\\n",
    "        lr_loss(W,b,current_data))\n",
    "    W=W-step_size*W_grad\n",
    "    b=b-step_size*b_grad\n",
    "    "
   ]
  },
  {
   "cell_type": "markdown",
   "metadata": {},
   "source": [
    "It can be a helpful diagnostic tool to visualize the learning curve:"
   ]
  },
  {
   "cell_type": "code",
   "execution_count": 8,
   "metadata": {},
   "outputs": [
    {
     "data": {
      "text/plain": [
       "[<matplotlib.lines.Line2D at 0x2cf14176d30>]"
      ]
     },
     "execution_count": 8,
     "metadata": {},
     "output_type": "execute_result"
    },
    {
     "data": {
      "image/png": "[encoded data removed]",
      "text/plain": [
       "<Figure size 432x288 with 1 Axes>"
      ]
     },
     "metadata": {},
     "output_type": "display_data"
    }
   ],
   "source": [
    "plt.plot(training_loss_history)"
   ]
  },
  {
   "cell_type": "markdown",
   "metadata": {},
   "source": [
    "Calculate both your training loss and accuracy and your validation loss and accuracy"
   ]
  },
  {
   "cell_type": "code",
   "execution_count": 9,
   "metadata": {},
   "outputs": [],
   "source": [
    "def get_accuracy(W,b,data):\n",
    "    \n",
    "    size = (data[0].shape)[0]\n",
    "\n",
    "    accuracy = 0\n",
    "    for i in range(0,size):\n",
    "        z = b + np.dot(W,data[0][i]).reshape((10,1))\n",
    "        softmax = np.argmax(np.exp(z)/sum(np.exp(z)))\n",
    "        #print(\"soft max is \" + str(softmax))\n",
    "        if softmax == np.argmax(data[1][i]):\n",
    "            accuracy += 1/size\n",
    "    \n",
    "    return accuracy"
   ]
  },
  {
   "cell_type": "code",
   "execution_count": 10,
   "metadata": {},
   "outputs": [
    {
     "name": "stdout",
     "output_type": "stream",
     "text": [
      "training loss is: [0.3384761]\n",
      "training accuracy is: 0.9125272727267566\n",
      "test loss is: [0.32414146]\n",
      "test accuracy is: 0.9153999999999155\n"
     ]
    }
   ],
   "source": [
    "# Fill in code here.\n",
    "train_size = mnist.train.images.shape[0]\n",
    "training_data = mnist.train.next_batch(train_size)\n",
    "print(\"training loss is: \" + str(lr_loss(W,b,training_data)))\n",
    "print(\"training accuracy is: \" + str(get_accuracy(W,b,training_data)))\n",
    "\n",
    "test_size = mnist.test.images.shape[0]\n",
    "test_data = mnist.train.next_batch(test_size)\n",
    "print(\"test loss is: \" + str(lr_loss(W,b,test_data)))\n",
    "print(\"test accuracy is: \" + str(get_accuracy(W,b,test_data)))"
   ]
  },
  {
   "cell_type": "markdown",
   "metadata": {},
   "source": [
    "## Problem 3: Algorithmic Implementation of a Multi-Class Logistic Regression with Tensorflow (30 Points)\n",
    "As above, but now you are allowed to use tensorflow to perform model learning."
   ]
  },
  {
   "cell_type": "markdown",
   "metadata": {},
   "source": [
    "### (a)\tSet up a logistic regression network, and learn it on MNIST using stochastic gradient descent."
   ]
  },
  {
   "cell_type": "code",
   "execution_count": 11,
   "metadata": {},
   "outputs": [
    {
     "name": "stdout",
     "output_type": "stream",
     "text": [
      "WARNING:tensorflow:From <ipython-input-11-26957aa92b34>:16: softmax_cross_entropy_with_logits (from tensorflow.python.ops.nn_ops) is deprecated and will be removed in a future version.\n",
      "Instructions for updating:\n",
      "\n",
      "Future major versions of TensorFlow will allow gradients to flow\n",
      "into the labels input on backprop by default.\n",
      "\n",
      "See @{tf.nn.softmax_cross_entropy_with_logits_v2}.\n",
      "\n"
     ]
    }
   ],
   "source": [
    "# Modeling Definition\n",
    "\n",
    "# Create the model\n",
    "x = tf.placeholder(tf.float32, [None, 784])\n",
    "W = tf.Variable(tf.zeros([784, 10]))\n",
    "b = tf.Variable(tf.zeros([10]))\n",
    "\n",
    "y = tf.matmul(x, W) + b\n",
    "\n",
    "# Softmax to probabilities\n",
    "py = tf.nn.softmax(y)\n",
    "\n",
    "# Define labels placeholder\n",
    "y_ = tf.placeholder(tf.float32, [None, 10])\n",
    "# Loss\n",
    "cross_entropy = tf.reduce_mean(tf.nn.softmax_cross_entropy_with_logits(labels=y_, logits=y))\n",
    "# Optimizer\n",
    "train_step = tf.train.GradientDescentOptimizer(0.5).minimize(cross_entropy)\n",
    "\n",
    "# Create a Session object, initialize all variables\n",
    "sess = tf.Session()\n",
    "sess.run(tf.global_variables_initializer())"
   ]
  },
  {
   "cell_type": "code",
   "execution_count": 12,
   "metadata": {},
   "outputs": [
    {
     "name": "stderr",
     "output_type": "stream",
     "text": [
      "100%|███████████████████████████████████████████████████████████████████████████| 10000/10000 [00:10<00:00, 949.50it/s]\n"
     ]
    }
   ],
   "source": [
    "# Learning\n",
    "\n",
    "# Train the model\n",
    "for i in trange(10000): \n",
    "    batch_xs, batch_ys = mnist.train.next_batch(100)\n",
    "    sess.run([train_step], feed_dict={x: batch_xs, y_: batch_ys})\n"
   ]
  },
  {
   "cell_type": "code",
   "execution_count": 13,
   "metadata": {},
   "outputs": [
    {
     "name": "stdout",
     "output_type": "stream",
     "text": [
      "Test accuracy: 0.9253000020980835\n"
     ]
    }
   ],
   "source": [
    "# Evaluation\n",
    "\n",
    "# Test trained model\n",
    "correct_prediction = tf.equal(tf.argmax(py, 1), tf.argmax(y_, 1))\n",
    "accuracy = tf.reduce_mean(tf.cast(correct_prediction, tf.float32))\n",
    "print('Test accuracy: {0}'.format(sess.run(accuracy, feed_dict={x: mnist.test.images, y_: mnist.test.labels})))\n",
    "\n",
    "# Close session to finish\n",
    "sess.close()"
   ]
  },
  {
   "cell_type": "markdown",
   "metadata": {},
   "source": [
    "### (b)\tSet up an MLP with a single hidden layer (you can choose the number of hidden nodes) and learn it on MNIST using stochastic gradient descent."
   ]
  },
  {
   "cell_type": "code",
   "execution_count": null,
   "metadata": {},
   "outputs": [],
   "source": [
    "# Modeling Definition\n",
    "\n",
    "# Create the model\n",
    "x = tf.placeholder(tf.float32, [None, 784])\n",
    "# hidden layer\n",
    "W_1 = tf.Variable(tf.random_normal([784, 150]))\n",
    "b_1 = tf.Variable(tf.random_normal([150]))\n",
    "z = tf.matmul(x, W_1) + b_1\n",
    "# Output\n",
    "W_2 = tf.Variable(tf.random_normal([150, 10]))\n",
    "b_2 = tf.Variable(tf.random_normal([10]))\n",
    "y = tf.matmul(tf.nn.sigmoid(z), W_2) + b_2\n",
    "\n",
    "# Softmax to probabilities\n",
    "py = tf.nn.softmax(y)\n",
    "\n",
    "# Define labels placeholder\n",
    "y_ = tf.placeholder(tf.float32, [None, 10])\n",
    "cross_entropy = tf.reduce_mean(-tf.reduce_sum(y_ * tf.log(py), reduction_indices=[1]))\n",
    "train_step = tf.train.GradientDescentOptimizer(.5).minimize(cross_entropy)\n",
    "\n",
    "# Create a Session object, initialize all variables\n",
    "sess = tf.Session()\n",
    "sess.run(tf.global_variables_initializer())"
   ]
  },
  {
   "cell_type": "code",
   "execution_count": null,
   "metadata": {},
   "outputs": [],
   "source": [
    "# Learning\n",
    "\n",
    "# Train the model\n",
    "for i in trange(10000): \n",
    "    batch_xs, batch_ys = mnist.train.next_batch(100)\n",
    "    sess.run([train_step], feed_dict={x: batch_xs, y_: batch_ys}) \n"
   ]
  },
  {
   "cell_type": "code",
   "execution_count": null,
   "metadata": {},
   "outputs": [],
   "source": [
    "# Evaluation\n",
    "\n",
    "# Test trained model\n",
    "correct_prediction = tf.equal(tf.argmax(py, 1), tf.argmax(y_, 1))\n",
    "accuracy = tf.reduce_mean(tf.cast(correct_prediction, tf.float32))\n",
    "print('Test accuracy: {0}'.format(sess.run(accuracy, feed_dict={x: mnist.test.images, y_: mnist.test.labels})))\n",
    "\n",
    "# Close session to finish\n",
    "sess.close()"
   ]
  },
  {
   "cell_type": "markdown",
   "metadata": {},
   "source": [
    "### (c)\tSet up an MLP with two hidden layers (i.e. lecture 2, slide 55)"
   ]
  },
  {
   "cell_type": "code",
   "execution_count": 17,
   "metadata": {},
   "outputs": [],
   "source": [
    "# Modeling Definition\n",
    "\n",
    "# Create the model\n",
    "x = tf.placeholder(tf.float32, [None, 784])\n",
    "# hidden layer 1\n",
    "W_1 = tf.Variable(tf.random_normal([784, 200]))\n",
    "b_1 = tf.Variable(tf.random_normal([200]))\n",
    "z_1 = tf.matmul(x, W_1) + b_1\n",
    "# hidden layer 2\n",
    "W_2 = tf.Variable(tf.random_normal([200, 50]))\n",
    "b_2 = tf.Variable(tf.random_normal([50]))\n",
    "z_2 = tf.matmul(tf.nn.sigmoid(z_1), W_2) + b_2\n",
    "# Output\n",
    "W_3 = tf.Variable(tf.random_normal([50, 10]))\n",
    "b_3 = tf.Variable(tf.random_normal([10]))\n",
    "y = tf.matmul(tf.nn.sigmoid(z_2), W_3) + b_3\n",
    "\n",
    "# Softmax to probabilities\n",
    "py = tf.nn.softmax(y)\n",
    "\n",
    "# Define labels placeholder\n",
    "y_ = tf.placeholder(tf.float32, [None, 10])\n",
    "# Loss\n",
    "cross_entropy = tf.reduce_mean(-tf.reduce_sum(y_ * tf.log(py), reduction_indices=[1]))\n",
    "# Optimizer\n",
    "train_step = tf.train.GradientDescentOptimizer(0.5).minimize(cross_entropy)\n",
    "\n",
    "# Create a Session object, initialize all variables\n",
    "sess = tf.Session()\n",
    "sess.run(tf.global_variables_initializer())"
   ]
  },
  {
   "cell_type": "code",
   "execution_count": 18,
   "metadata": {},
   "outputs": [
    {
     "name": "stderr",
     "output_type": "stream",
     "text": [
      "100%|███████████████████████████████████████████████████████████████████████████| 10000/10000 [00:26<00:00, 374.89it/s]\n"
     ]
    }
   ],
   "source": [
    "# Learning\n",
    "\n",
    "for i in trange(10000): \n",
    "    batch_xs, batch_ys = mnist.train.next_batch(100)\n",
    "    sess.run(train_step, feed_dict={x: batch_xs, y_: batch_ys})   "
   ]
  },
  {
   "cell_type": "code",
   "execution_count": 19,
   "metadata": {},
   "outputs": [
    {
     "name": "stdout",
     "output_type": "stream",
     "text": [
      "Test accuracy: 0.9388999938964844\n"
     ]
    }
   ],
   "source": [
    "# Evaluation\n",
    "\n",
    "# Test trained model\n",
    "correct_prediction = tf.equal(tf.argmax(py, 1), tf.argmax(y_, 1))\n",
    "accuracy = tf.reduce_mean(tf.cast(correct_prediction, tf.float32))\n",
    "print('Test accuracy: {0}'.format(sess.run(accuracy, feed_dict={x: mnist.test.images, y_: mnist.test.labels})))\n",
    "\n",
    "# Close session to finish\n",
    "sess.close()"
   ]
  },
  {
   "cell_type": "markdown",
   "metadata": {},
   "source": [
    "## Problem 4: Performance Comparison (20 points)"
   ]
  },
  {
   "cell_type": "markdown",
   "metadata": {},
   "source": [
    "### (a)\tDid your implementations and Tensorflow’s implementations from problems 2 and 3 perform the same?"
   ]
  },
  {
   "cell_type": "markdown",
   "metadata": {},
   "source": [
    "They performed about the same with tensorflow's version performing slightly better and at a faster rate.  My validation accuracy for problem 2 was generally ~0.910 and took 1 minute 50 seconds to train.  The tensorflow version only took 10 seconds and achieved an accuracy around ~0.92. Both tests were run with 100 as the batch size and over 10000 cycles with a "
   ]
  },
  {
   "cell_type": "markdown",
   "metadata": {},
   "source": [
    "### (b)\tWhat is the validation accuracy from the multi-class logistic regression?"
   ]
  },
  {
   "cell_type": "markdown",
   "metadata": {},
   "source": [
    "For multi-class logistic regression my validation accuracy is generally between 0.92 and 0.925.  This test was run with 100 as the batch size and over 10000 cycles with a gradient optimizer of 0.5."
   ]
  },
  {
   "cell_type": "markdown",
   "metadata": {},
   "source": [
    "### (c)\tWhat is the validation accuracy from the multi-class MLP with a single hidden layer?  If you change the number of nodes in the hidden layer, how susceptible is the hold out performance?"
   ]
  },
  {
   "cell_type": "markdown",
   "metadata": {},
   "source": [
    "My results for accuracy and time of test given a specific layer size:\n",
    "\n",
    "500: 0.945 accuracy, 50 seconds\n",
    "\n",
    "200: 0.946 accuracy, 23 seconds\n",
    "\n",
    "100: 0.941 accuracy, 16 seconds\n",
    "\n",
    "50: 0.939 accuracy, 15 seconds\n",
    "\n",
    "20: 0.925 accuracy, 11 seconds\n",
    "\n",
    "10: 0.906 accuracy, 9 seconds\n",
    "\n",
    "All tests were run with 100 as the batch size and over 10000 cycles and a gradient optimizer of 0.5.  As you can see, a higher hidden layer size meens better performance, but it also takes much longer to compute.  Potentially, the optimizer value, number of cycles, and batch size could have been used to improve performance.  Additionally, I did not account for oerfitting which also might be a factor."
   ]
  },
  {
   "cell_type": "markdown",
   "metadata": {},
   "source": [
    "### (d)\tWhat is the validation accuracy from the multi-class MLP with two hidden layer?  If you change the number of nodes in the hidden layers, how susceptible is the hold out performance?"
   ]
  },
  {
   "cell_type": "markdown",
   "metadata": {},
   "source": [
    "My results for accuracy and time of test given a specific layer size:\n",
    "\n",
    "500,100: 0.931 accuracy, 56 seconds\n",
    "\n",
    "200,100: 0.942 accuracy, 30 seconds\n",
    "\n",
    "200,20: 0.931 accuracy, 28 seconds\n",
    "\n",
    "100,20: 0.932 accuracy, 16 seconds\n",
    "\n",
    "All tests were run with 100 as the batch size and over 10000 cycles and a gradient optimizer of 0.5.  There is less consistency with regards to improving hidden layer size and improved accuracy of the two layer MLP.  There might be some sweet spot with my particular parameter inputs, but I suspect a higher number of cycles would improve the end accuracy result for this NN.  Additionally, I did not account for oerfitting which also might be a factor."
   ]
  },
  {
   "cell_type": "markdown",
   "metadata": {},
   "source": [
    "### (e)\tDo you match my reported accuracies (lecture 2, slide 58)?"
   ]
  },
  {
   "cell_type": "markdown",
   "metadata": {},
   "source": [
    "I easily match the logistic regression accuracy and don't quite match the hidden layer NN.  This might be because more parameter values need to be played with to reach those accuracies, or more computer power commited to the problem."
   ]
  }
 ],
 "metadata": {
  "kernelspec": {
   "display_name": "Python 3",
   "language": "python",
   "name": "python3"
  },
  "language_info": {
   "codemirror_mode": {
    "name": "ipython",
    "version": 3
   },
   "file_extension": ".py",
   "mimetype": "text/x-python",
   "name": "python",
   "nbconvert_exporter": "python",
   "pygments_lexer": "ipython3",
   "version": "3.6.5"
  }
 },
 "nbformat": 4,
 "nbformat_minor": 2
}

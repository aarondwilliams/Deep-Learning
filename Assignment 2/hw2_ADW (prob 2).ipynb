{
 "cells": [
  {
   "cell_type": "markdown",
   "metadata": {},
   "source": [
    "## Introduction to Deep Learning, HW 2\n",
    "This document gives a suggested outline for the coding assignment.  Please see the assignment pdf for a more complete description of the assignment."
   ]
  },
  {
   "cell_type": "markdown",
   "metadata": {},
   "source": [
    "**[Duke Community Standard](http://integrity.duke.edu/standard.html): By typing your name below, you are certifying that you have adhered to the Duke Community Standard in completing this assignment.**\n",
    "\n",
    "Name: Aaron Williams"
   ]
  },
  {
   "cell_type": "code",
   "execution_count": 1,
   "metadata": {},
   "outputs": [
    {
     "name": "stderr",
     "output_type": "stream",
     "text": [
      "C:\\Users\\Zenaardvark\\Anaconda3\\lib\\site-packages\\h5py\\__init__.py:36: FutureWarning: Conversion of the second argument of issubdtype from `float` to `np.floating` is deprecated. In future, it will be treated as `np.float64 == np.dtype(float).type`.\n",
      "  from ._conv import register_converters as _register_converters\n"
     ]
    }
   ],
   "source": [
    "import numpy as np\n",
    "import tensorflow as tf\n",
    "import matplotlib.pyplot as plt\n",
    "from tqdm import trange         \n",
    "% matplotlib inline"
   ]
  },
  {
   "cell_type": "code",
   "execution_count": 2,
   "metadata": {},
   "outputs": [],
   "source": [
    "from tensorflow.examples.tutorials.mnist import input_data\n",
    "mnist = input_data.read_data_sets('MNIST_data/', one_hot=True)"
   ]
  },
  {
   "cell_type": "markdown",
   "metadata": {},
   "source": [
    "Visualizing the data to make sure that its understood:"
   ]
  },
  {
   "cell_type": "markdown",
   "metadata": {},
   "source": [
    "**Problem 2: \n",
    "Practical Implementations of Optimization Functions (27 Points)**\n",
    "\n",
    "In addition to the mathematical intuition in problem 1, it is important to see what the practical implications of such functions are. There are numerous ways to implement such functions, but there are built-in Tensorflow functions that can do this for you.\n",
    "\n",
    "Using the built in functions, i.e. (tf.train.GradientDescentOptimizer, tf.train.MomentumOptimizer, tf.train.AdamOptimizer), try out each function on your most complex MLP from HW 1. You can use any dataset you like, but MNIST is fine."
   ]
  },
  {
   "cell_type": "markdown",
   "metadata": {},
   "source": [
    "<br>\n",
    "<br>\n",
    "<i>For this first part I was just doing a little optimization of my previous multi-stage classifier.  I'm afraid I didn't get too much improvement out of the volume of work.</i>\n",
    "<br>\n",
    "<br>"
   ]
  },
  {
   "cell_type": "code",
   "execution_count": null,
   "metadata": {},
   "outputs": [],
   "source": [
    "\n",
    "# Create the model\n",
    "x = tf.placeholder(tf.float32, [None, 784])\n",
    "# hidden layer 1\n",
    "W_1 = tf.Variable(tf.random_normal([784, 125]))\n",
    "b_1 = tf.Variable(tf.random_normal([125]))\n",
    "z_1 = tf.matmul(x, W_1) + b_1\n",
    "# hidden layer 2\n",
    "W_2 = tf.Variable(tf.random_normal([125, 100]))\n",
    "b_2 = tf.Variable(tf.random_normal([100]))\n",
    "z_2 = tf.matmul(tf.nn.sigmoid(z_1), W_2) + b_2\n",
    "# Output\n",
    "W_3 = tf.Variable(tf.random_normal([100, 10]))\n",
    "b_3 = tf.Variable(tf.random_normal([10]))\n",
    "y = tf.matmul(tf.nn.sigmoid(z_2), W_3) + b_3\n",
    "\n",
    "# Softmax to probabilities\n",
    "py = tf.nn.softmax(y)\n",
    "\n",
    "# Define labels placeholder\n",
    "y_ = tf.placeholder(tf.float32, [None, 10])\n",
    "\n",
    "# Loss\n",
    "cross_entropy = tf.reduce_mean(-tf.reduce_sum(y_ * tf.log(py), reduction_indices=[1]))\n",
    "\n",
    "# Optimizer\n",
    "train_step = tf.train.GradientDescentOptimizer(0.5).minimize(cross_entropy)\n",
    "\n",
    "# Create a Session object, initialize all variables\n",
    "sess = tf.Session()\n",
    "sess.run(tf.global_variables_initializer())"
   ]
  },
  {
   "cell_type": "code",
   "execution_count": 31,
   "metadata": {},
   "outputs": [
    {
     "name": "stderr",
     "output_type": "stream",
     "text": [
      "100%|█████████████████████████████████████████████████████████████████████████| 100000/100000 [06:36<00:00, 252.21it/s]\n"
     ]
    },
    {
     "data": {
      "text/plain": [
       "[<matplotlib.lines.Line2D at 0x14e046314e0>]"
      ]
     },
     "execution_count": 31,
     "metadata": {},
     "output_type": "execute_result"
    },
    {
     "data": {
      "image/png": "[encoded data removed]",
      "text/plain": [
       "<Figure size 432x288 with 1 Axes>"
      ]
     },
     "metadata": {},
     "output_type": "display_data"
    }
   ],
   "source": [
    "# Learning\n",
    "val_acc = []\n",
    "\n",
    "for i in trange(100000): \n",
    "    batch_xs, batch_ys = mnist.train.next_batch(100)\n",
    "    _, curr_loss = sess.run([train_step,cross_entropy], feed_dict={x: batch_xs, y_: batch_ys})\n",
    "    \n",
    "    if i%1000 == 0:\n",
    "        correct_prediction = tf.equal(tf.argmax(py, 1), tf.argmax(y_, 1))\n",
    "        accuracy = tf.reduce_mean(tf.cast(correct_prediction, tf.float32))\n",
    "        curr_acc = sess.run(accuracy, feed_dict={x: mnist.test.images, y_: mnist.test.labels})\n",
    "\n",
    "        val_acc.append(curr_acc)\n",
    "    \n",
    "plt.ylim((0.94,0.96))\n",
    "plt.plot(val_acc)"
   ]
  },
  {
   "cell_type": "code",
   "execution_count": 32,
   "metadata": {},
   "outputs": [
    {
     "name": "stdout",
     "output_type": "stream",
     "text": [
      "Test accuracy: 0.9509999752044678\n"
     ]
    }
   ],
   "source": [
    "# Evaluation\n",
    "\n",
    "# Test trained model\n",
    "correct_prediction = tf.equal(tf.argmax(py, 1), tf.argmax(y_, 1))\n",
    "accuracy = tf.reduce_mean(tf.cast(correct_prediction, tf.float32))\n",
    "print('Test accuracy: {0}'.format(sess.run(accuracy, feed_dict={x: mnist.test.images, y_: mnist.test.labels})))\n",
    "\n",
    "# Close session to finish\n",
    "sess.close()"
   ]
  },
  {
   "cell_type": "markdown",
   "metadata": {},
   "source": [
    "<br>\n",
    "<br>\n",
    "<i>Again, I was playing with the step sizes here and seeing if I could get some improvement.  Generally, my best results were  when my first layer sizes were smaller at ~100, and occasionally when my second layer sizes were greater then my first layer sizes.</i>\n",
    "<br>\n",
    "<br>"
   ]
  },
  {
   "cell_type": "code",
   "execution_count": 5,
   "metadata": {
    "scrolled": true
   },
   "outputs": [
    {
     "name": "stderr",
     "output_type": "stream",
     "text": [
      "100%|███████████████████████████████████████████████████████████████████████████| 25000/25000 [00:59<00:00, 417.08it/s]\n"
     ]
    },
    {
     "name": "stdout",
     "output_type": "stream",
     "text": [
      "Current accuracy is = 0.9528\n"
     ]
    },
    {
     "name": "stderr",
     "output_type": "stream",
     "text": [
      "100%|███████████████████████████████████████████████████████████████████████████| 25000/25000 [01:01<00:00, 404.82it/s]\n"
     ]
    },
    {
     "name": "stdout",
     "output_type": "stream",
     "text": [
      "Current accuracy is = 0.9486\n"
     ]
    },
    {
     "name": "stderr",
     "output_type": "stream",
     "text": [
      "100%|███████████████████████████████████████████████████████████████████████████| 25000/25000 [01:07<00:00, 369.54it/s]\n"
     ]
    },
    {
     "name": "stdout",
     "output_type": "stream",
     "text": [
      "Current accuracy is = 0.9481\n"
     ]
    },
    {
     "name": "stderr",
     "output_type": "stream",
     "text": [
      "100%|███████████████████████████████████████████████████████████████████████████| 25000/25000 [01:18<00:00, 319.35it/s]\n"
     ]
    },
    {
     "name": "stdout",
     "output_type": "stream",
     "text": [
      "Current accuracy is = 0.9463\n"
     ]
    },
    {
     "name": "stderr",
     "output_type": "stream",
     "text": [
      "100%|███████████████████████████████████████████████████████████████████████████| 25000/25000 [01:01<00:00, 405.40it/s]\n"
     ]
    },
    {
     "name": "stdout",
     "output_type": "stream",
     "text": [
      "Current accuracy is = 0.951\n",
      "Layer 2 size: 300 Accuracy: 0.9493599891662597\n"
     ]
    },
    {
     "name": "stderr",
     "output_type": "stream",
     "text": [
      "100%|███████████████████████████████████████████████████████████████████████████| 25000/25000 [01:02<00:00, 398.97it/s]\n"
     ]
    },
    {
     "name": "stdout",
     "output_type": "stream",
     "text": [
      "Current accuracy is = 0.9492\n"
     ]
    },
    {
     "name": "stderr",
     "output_type": "stream",
     "text": [
      "100%|███████████████████████████████████████████████████████████████████████████| 25000/25000 [00:56<00:00, 442.57it/s]\n"
     ]
    },
    {
     "name": "stdout",
     "output_type": "stream",
     "text": [
      "Current accuracy is = 0.9481\n"
     ]
    },
    {
     "name": "stderr",
     "output_type": "stream",
     "text": [
      "100%|███████████████████████████████████████████████████████████████████████████| 25000/25000 [00:57<00:00, 435.68it/s]\n"
     ]
    },
    {
     "name": "stdout",
     "output_type": "stream",
     "text": [
      "Current accuracy is = 0.9482\n"
     ]
    },
    {
     "name": "stderr",
     "output_type": "stream",
     "text": [
      "100%|███████████████████████████████████████████████████████████████████████████| 25000/25000 [00:58<00:00, 430.04it/s]\n"
     ]
    },
    {
     "name": "stdout",
     "output_type": "stream",
     "text": [
      "Current accuracy is = 0.9485\n"
     ]
    },
    {
     "name": "stderr",
     "output_type": "stream",
     "text": [
      "100%|███████████████████████████████████████████████████████████████████████████| 25000/25000 [00:58<00:00, 427.74it/s]\n"
     ]
    },
    {
     "name": "stdout",
     "output_type": "stream",
     "text": [
      "Current accuracy is = 0.951\n",
      "Layer 2 size: 250 Accuracy: 0.9489999771118164\n"
     ]
    },
    {
     "name": "stderr",
     "output_type": "stream",
     "text": [
      "100%|███████████████████████████████████████████████████████████████████████████| 25000/25000 [00:50<00:00, 493.55it/s]\n"
     ]
    },
    {
     "name": "stdout",
     "output_type": "stream",
     "text": [
      "Current accuracy is = 0.9487\n"
     ]
    },
    {
     "name": "stderr",
     "output_type": "stream",
     "text": [
      "100%|███████████████████████████████████████████████████████████████████████████| 25000/25000 [00:55<00:00, 450.37it/s]\n"
     ]
    },
    {
     "name": "stdout",
     "output_type": "stream",
     "text": [
      "Current accuracy is = 0.9473\n"
     ]
    },
    {
     "name": "stderr",
     "output_type": "stream",
     "text": [
      "100%|███████████████████████████████████████████████████████████████████████████| 25000/25000 [01:01<00:00, 407.51it/s]\n"
     ]
    },
    {
     "name": "stdout",
     "output_type": "stream",
     "text": [
      "Current accuracy is = 0.9456\n"
     ]
    },
    {
     "name": "stderr",
     "output_type": "stream",
     "text": [
      "100%|███████████████████████████████████████████████████████████████████████████| 25000/25000 [01:10<00:00, 353.38it/s]\n"
     ]
    },
    {
     "name": "stdout",
     "output_type": "stream",
     "text": [
      "Current accuracy is = 0.9509\n"
     ]
    },
    {
     "name": "stderr",
     "output_type": "stream",
     "text": [
      "100%|███████████████████████████████████████████████████████████████████████████| 25000/25000 [01:11<00:00, 348.06it/s]\n"
     ]
    },
    {
     "name": "stdout",
     "output_type": "stream",
     "text": [
      "Current accuracy is = 0.951\n",
      "Layer 2 size: 200 Accuracy: 0.9486999988555909\n"
     ]
    },
    {
     "name": "stderr",
     "output_type": "stream",
     "text": [
      "100%|███████████████████████████████████████████████████████████████████████████| 25000/25000 [01:21<00:00, 305.82it/s]\n"
     ]
    },
    {
     "name": "stdout",
     "output_type": "stream",
     "text": [
      "Current accuracy is = 0.9442\n"
     ]
    },
    {
     "name": "stderr",
     "output_type": "stream",
     "text": [
      "100%|███████████████████████████████████████████████████████████████████████████| 25000/25000 [00:58<00:00, 429.45it/s]\n"
     ]
    },
    {
     "name": "stdout",
     "output_type": "stream",
     "text": [
      "Current accuracy is = 0.9501\n"
     ]
    },
    {
     "name": "stderr",
     "output_type": "stream",
     "text": [
      "100%|███████████████████████████████████████████████████████████████████████████| 25000/25000 [01:04<00:00, 386.37it/s]\n"
     ]
    },
    {
     "name": "stdout",
     "output_type": "stream",
     "text": [
      "Current accuracy is = 0.9483\n"
     ]
    },
    {
     "name": "stderr",
     "output_type": "stream",
     "text": [
      "100%|███████████████████████████████████████████████████████████████████████████| 25000/25000 [01:07<00:00, 370.17it/s]\n"
     ]
    },
    {
     "name": "stdout",
     "output_type": "stream",
     "text": [
      "Current accuracy is = 0.9478\n"
     ]
    },
    {
     "name": "stderr",
     "output_type": "stream",
     "text": [
      "100%|███████████████████████████████████████████████████████████████████████████| 25000/25000 [01:31<00:00, 273.29it/s]\n"
     ]
    },
    {
     "name": "stdout",
     "output_type": "stream",
     "text": [
      "Current accuracy is = 0.9497\n",
      "Layer 2 size: 175 Accuracy: 0.9480199933052064\n"
     ]
    },
    {
     "name": "stderr",
     "output_type": "stream",
     "text": [
      "100%|███████████████████████████████████████████████████████████████████████████| 25000/25000 [01:10<00:00, 354.03it/s]\n"
     ]
    },
    {
     "name": "stdout",
     "output_type": "stream",
     "text": [
      "Current accuracy is = 0.9481\n"
     ]
    },
    {
     "name": "stderr",
     "output_type": "stream",
     "text": [
      "100%|███████████████████████████████████████████████████████████████████████████| 25000/25000 [01:34<00:00, 263.80it/s]\n"
     ]
    },
    {
     "name": "stdout",
     "output_type": "stream",
     "text": [
      "Current accuracy is = 0.9478\n"
     ]
    },
    {
     "name": "stderr",
     "output_type": "stream",
     "text": [
      "100%|███████████████████████████████████████████████████████████████████████████| 25000/25000 [01:24<00:00, 294.31it/s]\n"
     ]
    },
    {
     "name": "stdout",
     "output_type": "stream",
     "text": [
      "Current accuracy is = 0.9475\n"
     ]
    },
    {
     "name": "stderr",
     "output_type": "stream",
     "text": [
      "100%|███████████████████████████████████████████████████████████████████████████| 25000/25000 [01:03<00:00, 395.35it/s]\n"
     ]
    },
    {
     "name": "stdout",
     "output_type": "stream",
     "text": [
      "Current accuracy is = 0.9495\n"
     ]
    },
    {
     "name": "stderr",
     "output_type": "stream",
     "text": [
      "100%|███████████████████████████████████████████████████████████████████████████| 25000/25000 [01:08<00:00, 364.50it/s]\n"
     ]
    },
    {
     "name": "stdout",
     "output_type": "stream",
     "text": [
      "Current accuracy is = 0.9482\n",
      "Layer 2 size: 150 Accuracy: 0.9482199907302857\n"
     ]
    },
    {
     "name": "stderr",
     "output_type": "stream",
     "text": [
      "100%|███████████████████████████████████████████████████████████████████████████| 25000/25000 [01:20<00:00, 310.98it/s]\n"
     ]
    },
    {
     "name": "stdout",
     "output_type": "stream",
     "text": [
      "Current accuracy is = 0.9461\n"
     ]
    },
    {
     "name": "stderr",
     "output_type": "stream",
     "text": [
      "100%|███████████████████████████████████████████████████████████████████████████| 25000/25000 [01:03<00:00, 391.81it/s]\n"
     ]
    },
    {
     "name": "stdout",
     "output_type": "stream",
     "text": [
      "Current accuracy is = 0.9488\n"
     ]
    },
    {
     "name": "stderr",
     "output_type": "stream",
     "text": [
      "100%|███████████████████████████████████████████████████████████████████████████| 25000/25000 [01:00<00:00, 414.68it/s]\n"
     ]
    },
    {
     "name": "stdout",
     "output_type": "stream",
     "text": [
      "Current accuracy is = 0.9497\n"
     ]
    },
    {
     "name": "stderr",
     "output_type": "stream",
     "text": [
      "100%|███████████████████████████████████████████████████████████████████████████| 25000/25000 [00:54<00:00, 456.42it/s]\n"
     ]
    },
    {
     "name": "stdout",
     "output_type": "stream",
     "text": [
      "Current accuracy is = 0.946\n"
     ]
    },
    {
     "name": "stderr",
     "output_type": "stream",
     "text": [
      "100%|███████████████████████████████████████████████████████████████████████████| 25000/25000 [01:27<00:00, 286.97it/s]\n"
     ]
    },
    {
     "name": "stdout",
     "output_type": "stream",
     "text": [
      "Current accuracy is = 0.9466\n",
      "Layer 2 size: 125 Accuracy: 0.9474400043487549\n"
     ]
    },
    {
     "name": "stderr",
     "output_type": "stream",
     "text": [
      "100%|███████████████████████████████████████████████████████████████████████████| 25000/25000 [01:02<00:00, 399.69it/s]\n"
     ]
    },
    {
     "name": "stdout",
     "output_type": "stream",
     "text": [
      "Current accuracy is = 0.9463\n"
     ]
    },
    {
     "name": "stderr",
     "output_type": "stream",
     "text": [
      "100%|███████████████████████████████████████████████████████████████████████████| 25000/25000 [01:09<00:00, 362.02it/s]\n"
     ]
    },
    {
     "name": "stdout",
     "output_type": "stream",
     "text": [
      "Current accuracy is = 0.95\n"
     ]
    },
    {
     "name": "stderr",
     "output_type": "stream",
     "text": [
      "100%|███████████████████████████████████████████████████████████████████████████| 25000/25000 [00:56<00:00, 445.87it/s]\n"
     ]
    },
    {
     "name": "stdout",
     "output_type": "stream",
     "text": [
      "Current accuracy is = 0.9509\n"
     ]
    },
    {
     "name": "stderr",
     "output_type": "stream",
     "text": [
      "100%|███████████████████████████████████████████████████████████████████████████| 25000/25000 [01:05<00:00, 381.33it/s]\n"
     ]
    },
    {
     "name": "stdout",
     "output_type": "stream",
     "text": [
      "Current accuracy is = 0.9481\n"
     ]
    },
    {
     "name": "stderr",
     "output_type": "stream",
     "text": [
      "100%|███████████████████████████████████████████████████████████████████████████| 25000/25000 [01:33<00:00, 268.17it/s]\n"
     ]
    },
    {
     "name": "stdout",
     "output_type": "stream",
     "text": [
      "Current accuracy is = 0.9502\n",
      "Layer 2 size: 100 Accuracy: 0.9491000056266785\n"
     ]
    },
    {
     "name": "stderr",
     "output_type": "stream",
     "text": [
      "100%|███████████████████████████████████████████████████████████████████████████| 25000/25000 [01:36<00:00, 258.79it/s]\n"
     ]
    },
    {
     "name": "stdout",
     "output_type": "stream",
     "text": [
      "Current accuracy is = 0.9481\n"
     ]
    },
    {
     "name": "stderr",
     "output_type": "stream",
     "text": [
      "100%|███████████████████████████████████████████████████████████████████████████| 25000/25000 [01:26<00:00, 287.42it/s]\n"
     ]
    },
    {
     "name": "stdout",
     "output_type": "stream",
     "text": [
      "Current accuracy is = 0.9489\n"
     ]
    },
    {
     "name": "stderr",
     "output_type": "stream",
     "text": [
      "100%|███████████████████████████████████████████████████████████████████████████| 25000/25000 [01:25<00:00, 292.85it/s]\n"
     ]
    },
    {
     "name": "stdout",
     "output_type": "stream",
     "text": [
      "Current accuracy is = 0.9493\n"
     ]
    },
    {
     "name": "stderr",
     "output_type": "stream",
     "text": [
      "100%|███████████████████████████████████████████████████████████████████████████| 25000/25000 [01:26<00:00, 289.65it/s]\n"
     ]
    },
    {
     "name": "stdout",
     "output_type": "stream",
     "text": [
      "Current accuracy is = 0.945\n"
     ]
    },
    {
     "name": "stderr",
     "output_type": "stream",
     "text": [
      "100%|███████████████████████████████████████████████████████████████████████████| 25000/25000 [01:26<00:00, 287.62it/s]\n"
     ]
    },
    {
     "name": "stdout",
     "output_type": "stream",
     "text": [
      "Current accuracy is = 0.9478\n",
      "Layer 2 size: 80 Accuracy: 0.9478199839591981\n"
     ]
    }
   ],
   "source": [
    "for l2_size in [300,250,200,175,150,125,100,80]:\n",
    "    curr_mean = 0\n",
    "    for _ in range(5):\n",
    "        # Create the model\n",
    "        x = tf.placeholder(tf.float32, [None, 784])\n",
    "        # hidden layer 1\n",
    "        W_1 = tf.Variable(tf.random_normal([784, 125]))\n",
    "        b_1 = tf.Variable(tf.random_normal([125]))\n",
    "        z_1 = tf.matmul(x, W_1) + b_1\n",
    "        # hidden layer 2\n",
    "        W_2 = tf.Variable(tf.random_normal([125, l2_size]))\n",
    "        b_2 = tf.Variable(tf.random_normal([l2_size]))\n",
    "        z_2 = tf.matmul(tf.nn.sigmoid(z_1), W_2) + b_2\n",
    "        # Output\n",
    "        W_3 = tf.Variable(tf.random_normal([l2_size, 10]))\n",
    "        b_3 = tf.Variable(tf.random_normal([10]))\n",
    "        y = tf.matmul(tf.nn.sigmoid(z_2), W_3) + b_3\n",
    "\n",
    "        # Softmax to probabilities\n",
    "        py = tf.nn.softmax(y)\n",
    "\n",
    "        # Define labels placeholder\n",
    "        y_ = tf.placeholder(tf.float32, [None, 10])\n",
    "        cross_entropy = tf.reduce_mean(-tf.reduce_sum(y_ * tf.log(py), reduction_indices=[1]))\n",
    "        train_step = tf.train.GradientDescentOptimizer(.5).minimize(cross_entropy)\n",
    "\n",
    "        # Create a Session object, initialize all variables\n",
    "        sess = tf.Session()\n",
    "        sess.run(tf.global_variables_initializer())\n",
    "\n",
    "        # Train the model\n",
    "        for i in trange(25000): \n",
    "            batch_xs, batch_ys = mnist.train.next_batch(100)\n",
    "            sess.run([train_step], feed_dict={x: batch_xs, y_: batch_ys}) \n",
    "\n",
    "        # Test trained model\n",
    "        correct_prediction = tf.equal(tf.argmax(py, 1), tf.argmax(y_, 1))\n",
    "        accuracy = tf.reduce_mean(tf.cast(correct_prediction, tf.float32))\n",
    "        curr_acc = sess.run(accuracy, feed_d`ict={x: mnist.test.images, y_: mnist.test.labels})\n",
    "        print(\"Current accuracy is = \" + str(curr_acc))\n",
    "        curr_mean += curr_acc/5\n",
    "        \n",
    "        # Close session to finish\n",
    "        sess.close()\n",
    "        \n",
    "    print(\"Layer 2 size: \" + str(l2_size) + \" Accuracy: \" + str(curr_mean))\n"
   ]
  },
  {
   "cell_type": "markdown",
   "metadata": {},
   "source": [
    "<br>\n",
    "<br>\n",
    "<b>(a) Try multiple (>3) step-sizes for SGD. Determine the “optimal” constant step size.</b>\n",
    "<br>\n",
    "<i> For the following, I tried 8 SGD step sizes as shown.  I did 5 training sessions and averaged the validation accuracy over each for each SGD step size.</i>\n",
    "<br>"
   ]
  },
  {
   "cell_type": "code",
   "execution_count": 34,
   "metadata": {},
   "outputs": [
    {
     "name": "stderr",
     "output_type": "stream",
     "text": [
      "100%|███████████████████████████████████████████████████████████████████████████| 50000/50000 [03:09<00:00, 264.02it/s]\n"
     ]
    },
    {
     "name": "stdout",
     "output_type": "stream",
     "text": [
      "Current accuracy is = 0.9528\n"
     ]
    },
    {
     "name": "stderr",
     "output_type": "stream",
     "text": [
      "100%|███████████████████████████████████████████████████████████████████████████| 50000/50000 [03:09<00:00, 263.44it/s]\n"
     ]
    },
    {
     "name": "stdout",
     "output_type": "stream",
     "text": [
      "Current accuracy is = 0.9504\n"
     ]
    },
    {
     "name": "stderr",
     "output_type": "stream",
     "text": [
      "100%|███████████████████████████████████████████████████████████████████████████| 50000/50000 [03:03<00:00, 272.42it/s]\n"
     ]
    },
    {
     "name": "stdout",
     "output_type": "stream",
     "text": [
      "Current accuracy is = 0.9517\n"
     ]
    },
    {
     "name": "stderr",
     "output_type": "stream",
     "text": [
      "100%|███████████████████████████████████████████████████████████████████████████| 50000/50000 [03:05<00:00, 270.25it/s]\n"
     ]
    },
    {
     "name": "stdout",
     "output_type": "stream",
     "text": [
      "Current accuracy is = 0.9514\n"
     ]
    },
    {
     "name": "stderr",
     "output_type": "stream",
     "text": [
      "100%|███████████████████████████████████████████████████████████████████████████| 50000/50000 [03:08<00:00, 265.09it/s]\n"
     ]
    },
    {
     "name": "stdout",
     "output_type": "stream",
     "text": [
      "Current accuracy is = 0.9486\n",
      "SGD step size: 0.9 Validation Accuracy: 0.9509799838066102\n"
     ]
    },
    {
     "name": "stderr",
     "output_type": "stream",
     "text": [
      "100%|███████████████████████████████████████████████████████████████████████████| 50000/50000 [03:12<00:00, 259.47it/s]\n"
     ]
    },
    {
     "name": "stdout",
     "output_type": "stream",
     "text": [
      "Current accuracy is = 0.95\n"
     ]
    },
    {
     "name": "stderr",
     "output_type": "stream",
     "text": [
      "100%|███████████████████████████████████████████████████████████████████████████| 50000/50000 [02:09<00:00, 384.99it/s]\n"
     ]
    },
    {
     "name": "stdout",
     "output_type": "stream",
     "text": [
      "Current accuracy is = 0.952\n"
     ]
    },
    {
     "name": "stderr",
     "output_type": "stream",
     "text": [
      "100%|███████████████████████████████████████████████████████████████████████████| 50000/50000 [01:53<00:00, 438.68it/s]\n"
     ]
    },
    {
     "name": "stdout",
     "output_type": "stream",
     "text": [
      "Current accuracy is = 0.9481\n"
     ]
    },
    {
     "name": "stderr",
     "output_type": "stream",
     "text": [
      "100%|███████████████████████████████████████████████████████████████████████████| 50000/50000 [02:02<00:00, 406.81it/s]\n"
     ]
    },
    {
     "name": "stdout",
     "output_type": "stream",
     "text": [
      "Current accuracy is = 0.9493\n"
     ]
    },
    {
     "name": "stderr",
     "output_type": "stream",
     "text": [
      "100%|███████████████████████████████████████████████████████████████████████████| 50000/50000 [02:05<00:00, 399.73it/s]\n"
     ]
    },
    {
     "name": "stdout",
     "output_type": "stream",
     "text": [
      "Current accuracy is = 0.9486\n",
      "SGD step size: 0.6 Validation Accuracy: 0.9495999932289124\n"
     ]
    },
    {
     "name": "stderr",
     "output_type": "stream",
     "text": [
      "100%|███████████████████████████████████████████████████████████████████████████| 50000/50000 [02:11<00:00, 381.40it/s]\n"
     ]
    },
    {
     "name": "stdout",
     "output_type": "stream",
     "text": [
      "Current accuracy is = 0.9489\n"
     ]
    },
    {
     "name": "stderr",
     "output_type": "stream",
     "text": [
      "100%|███████████████████████████████████████████████████████████████████████████| 50000/50000 [02:14<00:00, 372.59it/s]\n"
     ]
    },
    {
     "name": "stdout",
     "output_type": "stream",
     "text": [
      "Current accuracy is = 0.9482\n"
     ]
    },
    {
     "name": "stderr",
     "output_type": "stream",
     "text": [
      "100%|███████████████████████████████████████████████████████████████████████████| 50000/50000 [02:09<00:00, 344.38it/s]\n"
     ]
    },
    {
     "name": "stdout",
     "output_type": "stream",
     "text": [
      "Current accuracy is = 0.95\n"
     ]
    },
    {
     "name": "stderr",
     "output_type": "stream",
     "text": [
      "100%|███████████████████████████████████████████████████████████████████████████| 50000/50000 [01:59<00:00, 418.06it/s]\n"
     ]
    },
    {
     "name": "stdout",
     "output_type": "stream",
     "text": [
      "Current accuracy is = 0.9513\n"
     ]
    },
    {
     "name": "stderr",
     "output_type": "stream",
     "text": [
      "100%|███████████████████████████████████████████████████████████████████████████| 50000/50000 [02:08<00:00, 389.51it/s]\n"
     ]
    },
    {
     "name": "stdout",
     "output_type": "stream",
     "text": [
      "Current accuracy is = 0.9489\n",
      "SGD step size: 0.5 Validation Accuracy: 0.9494599938392638\n"
     ]
    },
    {
     "name": "stderr",
     "output_type": "stream",
     "text": [
      "100%|███████████████████████████████████████████████████████████████████████████| 50000/50000 [02:09<00:00, 386.29it/s]\n"
     ]
    },
    {
     "name": "stdout",
     "output_type": "stream",
     "text": [
      "Current accuracy is = 0.948\n"
     ]
    },
    {
     "name": "stderr",
     "output_type": "stream",
     "text": [
      "100%|███████████████████████████████████████████████████████████████████████████| 50000/50000 [02:10<00:00, 384.35it/s]\n"
     ]
    },
    {
     "name": "stdout",
     "output_type": "stream",
     "text": [
      "Current accuracy is = 0.9488\n"
     ]
    },
    {
     "name": "stderr",
     "output_type": "stream",
     "text": [
      "100%|███████████████████████████████████████████████████████████████████████████| 50000/50000 [02:09<00:00, 385.87it/s]\n"
     ]
    },
    {
     "name": "stdout",
     "output_type": "stream",
     "text": [
      "Current accuracy is = 0.9466\n"
     ]
    },
    {
     "name": "stderr",
     "output_type": "stream",
     "text": [
      "100%|███████████████████████████████████████████████████████████████████████████| 50000/50000 [02:06<00:00, 394.31it/s]\n"
     ]
    },
    {
     "name": "stdout",
     "output_type": "stream",
     "text": [
      "Current accuracy is = 0.9474\n"
     ]
    },
    {
     "name": "stderr",
     "output_type": "stream",
     "text": [
      "100%|███████████████████████████████████████████████████████████████████████████| 50000/50000 [02:11<00:00, 379.64it/s]\n"
     ]
    },
    {
     "name": "stdout",
     "output_type": "stream",
     "text": [
      "Current accuracy is = 0.9476\n",
      "SGD step size: 0.4 Validation Accuracy: 0.9476800084114074\n"
     ]
    },
    {
     "name": "stderr",
     "output_type": "stream",
     "text": [
      "100%|███████████████████████████████████████████████████████████████████████████| 50000/50000 [02:07<00:00, 391.04it/s]\n"
     ]
    },
    {
     "name": "stdout",
     "output_type": "stream",
     "text": [
      "Current accuracy is = 0.9468\n"
     ]
    },
    {
     "name": "stderr",
     "output_type": "stream",
     "text": [
      "100%|███████████████████████████████████████████████████████████████████████████| 50000/50000 [02:13<00:00, 373.48it/s]\n"
     ]
    },
    {
     "name": "stdout",
     "output_type": "stream",
     "text": [
      "Current accuracy is = 0.9484\n"
     ]
    },
    {
     "name": "stderr",
     "output_type": "stream",
     "text": [
      "100%|███████████████████████████████████████████████████████████████████████████| 50000/50000 [02:18<00:00, 362.09it/s]\n"
     ]
    },
    {
     "name": "stdout",
     "output_type": "stream",
     "text": [
      "Current accuracy is = 0.9469\n"
     ]
    },
    {
     "name": "stderr",
     "output_type": "stream",
     "text": [
      "100%|███████████████████████████████████████████████████████████████████████████| 50000/50000 [02:16<00:00, 367.12it/s]\n"
     ]
    },
    {
     "name": "stdout",
     "output_type": "stream",
     "text": [
      "Current accuracy is = 0.9474\n"
     ]
    },
    {
     "name": "stderr",
     "output_type": "stream",
     "text": [
      "100%|███████████████████████████████████████████████████████████████████████████| 50000/50000 [02:15<00:00, 368.58it/s]\n"
     ]
    },
    {
     "name": "stdout",
     "output_type": "stream",
     "text": [
      "Current accuracy is = 0.9516\n",
      "SGD step size: 0.25 Validation Accuracy: 0.9482200026512146\n"
     ]
    },
    {
     "name": "stderr",
     "output_type": "stream",
     "text": [
      "100%|███████████████████████████████████████████████████████████████████████████| 50000/50000 [02:14<00:00, 372.76it/s]\n"
     ]
    },
    {
     "name": "stdout",
     "output_type": "stream",
     "text": [
      "Current accuracy is = 0.9372\n"
     ]
    },
    {
     "name": "stderr",
     "output_type": "stream",
     "text": [
      "100%|███████████████████████████████████████████████████████████████████████████| 50000/50000 [02:11<00:00, 379.58it/s]\n"
     ]
    },
    {
     "name": "stdout",
     "output_type": "stream",
     "text": [
      "Current accuracy is = 0.9348\n"
     ]
    },
    {
     "name": "stderr",
     "output_type": "stream",
     "text": [
      "100%|███████████████████████████████████████████████████████████████████████████| 50000/50000 [02:12<00:00, 377.58it/s]\n"
     ]
    },
    {
     "name": "stdout",
     "output_type": "stream",
     "text": [
      "Current accuracy is = 0.9357\n"
     ]
    },
    {
     "name": "stderr",
     "output_type": "stream",
     "text": [
      "100%|███████████████████████████████████████████████████████████████████████████| 50000/50000 [02:07<00:00, 391.36it/s]\n"
     ]
    },
    {
     "name": "stdout",
     "output_type": "stream",
     "text": [
      "Current accuracy is = 0.9391\n"
     ]
    },
    {
     "name": "stderr",
     "output_type": "stream",
     "text": [
      "100%|███████████████████████████████████████████████████████████████████████████| 50000/50000 [02:07<00:00, 393.48it/s]\n"
     ]
    },
    {
     "name": "stdout",
     "output_type": "stream",
     "text": [
      "Current accuracy is = 0.9371\n",
      "SGD step size: 0.1 Validation Accuracy: 0.9367800116539002\n"
     ]
    },
    {
     "name": "stderr",
     "output_type": "stream",
     "text": [
      "100%|███████████████████████████████████████████████████████████████████████████| 50000/50000 [02:09<00:00, 386.72it/s]\n"
     ]
    },
    {
     "name": "stdout",
     "output_type": "stream",
     "text": [
      "Current accuracy is = 0.9284\n"
     ]
    },
    {
     "name": "stderr",
     "output_type": "stream",
     "text": [
      "100%|███████████████████████████████████████████████████████████████████████████| 50000/50000 [02:14<00:00, 372.61it/s]\n"
     ]
    },
    {
     "name": "stdout",
     "output_type": "stream",
     "text": [
      "Current accuracy is = 0.9264\n"
     ]
    },
    {
     "name": "stderr",
     "output_type": "stream",
     "text": [
      "100%|███████████████████████████████████████████████████████████████████████████| 50000/50000 [02:16<00:00, 366.49it/s]\n"
     ]
    },
    {
     "name": "stdout",
     "output_type": "stream",
     "text": [
      "Current accuracy is = 0.9246\n"
     ]
    },
    {
     "name": "stderr",
     "output_type": "stream",
     "text": [
      "100%|███████████████████████████████████████████████████████████████████████████| 50000/50000 [02:16<00:00, 460.43it/s]\n"
     ]
    },
    {
     "name": "stdout",
     "output_type": "stream",
     "text": [
      "Current accuracy is = 0.9278\n"
     ]
    },
    {
     "name": "stderr",
     "output_type": "stream",
     "text": [
      "100%|███████████████████████████████████████████████████████████████████████████| 50000/50000 [02:15<00:00, 370.28it/s]\n"
     ]
    },
    {
     "name": "stdout",
     "output_type": "stream",
     "text": [
      "Current accuracy is = 0.9293\n",
      "SGD step size: 0.05 Validation Accuracy: 0.9273000001907349\n"
     ]
    },
    {
     "name": "stderr",
     "output_type": "stream",
     "text": [
      "100%|███████████████████████████████████████████████████████████████████████████| 50000/50000 [02:15<00:00, 369.48it/s]\n"
     ]
    },
    {
     "name": "stdout",
     "output_type": "stream",
     "text": [
      "Current accuracy is = 0.8787\n"
     ]
    },
    {
     "name": "stderr",
     "output_type": "stream",
     "text": [
      "100%|███████████████████████████████████████████████████████████████████████████| 50000/50000 [02:11<00:00, 378.82it/s]\n"
     ]
    },
    {
     "name": "stdout",
     "output_type": "stream",
     "text": [
      "Current accuracy is = 0.8796\n"
     ]
    },
    {
     "name": "stderr",
     "output_type": "stream",
     "text": [
      "100%|███████████████████████████████████████████████████████████████████████████| 50000/50000 [02:13<00:00, 374.99it/s]\n"
     ]
    },
    {
     "name": "stdout",
     "output_type": "stream",
     "text": [
      "Current accuracy is = 0.883\n"
     ]
    },
    {
     "name": "stderr",
     "output_type": "stream",
     "text": [
      "100%|███████████████████████████████████████████████████████████████████████████| 50000/50000 [02:11<00:00, 380.24it/s]\n"
     ]
    },
    {
     "name": "stdout",
     "output_type": "stream",
     "text": [
      "Current accuracy is = 0.8833\n"
     ]
    },
    {
     "name": "stderr",
     "output_type": "stream",
     "text": [
      "100%|███████████████████████████████████████████████████████████████████████████| 50000/50000 [02:05<00:00, 398.48it/s]\n"
     ]
    },
    {
     "name": "stdout",
     "output_type": "stream",
     "text": [
      "Current accuracy is = 0.8828\n",
      "SGD step size: 0.01 Validation Accuracy: 0.8814800024032592\n"
     ]
    }
   ],
   "source": [
    "for sgd_size in [0.99,0.9,0.75,0.6,0.5,0.4,0.1,0.01]:\n",
    "    curr_mean = 0\n",
    "    for _ in range(3):\n",
    "        # Create the model\n",
    "        x = tf.placeholder(tf.float32, [None, 784])\n",
    "        # hidden layer 1\n",
    "        W_1 = tf.Variable(tf.random_normal([784, 125]))\n",
    "        b_1 = tf.Variable(tf.random_normal([125]))\n",
    "        z_1 = tf.matmul(x, W_1) + b_1\n",
    "        # hidden layer 2\n",
    "        W_2 = tf.Variable(tf.random_normal([125, 100]))\n",
    "        b_2 = tf.Variable(tf.random_normal([100]))\n",
    "        z_2 = tf.matmul(tf.nn.sigmoid(z_1), W_2) + b_2\n",
    "        # Output\n",
    "        W_3 = tf.Variable(tf.random_normal([100, 10]))\n",
    "        b_3 = tf.Variable(tf.random_normal([10]))\n",
    "        y = tf.matmul(tf.nn.sigmoid(z_2), W_3) + b_3\n",
    "\n",
    "        # Softmax to probabilities\n",
    "        py = tf.nn.softmax(y)\n",
    "\n",
    "        # Define labels placeholder\n",
    "        y_ = tf.placeholder(tf.float32, [None, 10])\n",
    "        cross_entropy = tf.reduce_mean(-tf.reduce_sum(y_ * tf.log(py), reduction_indices=[1]))\n",
    "        train_step = tf.train.GradientDescentOptimizer(sgd_size).minimize(cross_entropy)\n",
    "\n",
    "        # Create a Session object, initialize all variables\n",
    "        sess = tf.Session()\n",
    "        sess.run(tf.global_variables_initializer())\n",
    "\n",
    "        # Train the model\n",
    "        for i in trange(50000): \n",
    "            batch_xs, batch_ys = mnist.train.next_batch(100)\n",
    "            sess.run([train_step], feed_dict={x: batch_xs, y_: batch_ys}) \n",
    "\n",
    "        # Test trained model\n",
    "        correct_prediction = tf.equal(tf.argmax(py, 1), tf.argmax(y_, 1))\n",
    "        accuracy = tf.reduce_mean(tf.cast(correct_prediction, tf.float32))\n",
    "        curr_acc = sess.run(accuracy, feed_dict={x: mnist.test.images, y_: mnist.test.labels})\n",
    "        curr_mean += curr_acc/3\n",
    "        \n",
    "        # Close session to finish\n",
    "        sess.close()\n",
    "        \n",
    "    print(\"SGD step size: \" + str(sgd_size) + \" Validation Accuracy: \" + str(curr_mean))"
   ]
  },
  {
   "cell_type": "markdown",
   "metadata": {},
   "source": [
    "<br>\n",
    "<br>\n",
    "<b>(a) Vary the step-size and momentum settings in SGD w/ momentum. Determine the “optimal” settings.</b>\n",
    "<br>\n",
    "<i> For the following, I tried 3 step sizes and 4 seperate momentums.  I did only 3 trials per run.</i>\n",
    "<br>"
   ]
  },
  {
   "cell_type": "code",
   "execution_count": 4,
   "metadata": {},
   "outputs": [
    {
     "name": "stderr",
     "output_type": "stream",
     "text": [
      "100%|███████████████████████████████████████████████████████████████████████████| 50000/50000 [01:56<00:00, 429.19it/s]\n",
      "100%|███████████████████████████████████████████████████████████████████████████| 50000/50000 [02:11<00:00, 379.82it/s]\n",
      "100%|███████████████████████████████████████████████████████████████████████████| 50000/50000 [02:15<00:00, 370.21it/s]\n"
     ]
    },
    {
     "name": "stdout",
     "output_type": "stream",
     "text": [
      "Step size: 0.99 Momentum: 0.9 Validation Accuracy: 0.6772999987006187\n"
     ]
    },
    {
     "name": "stderr",
     "output_type": "stream",
     "text": [
      "100%|███████████████████████████████████████████████████████████████████████████| 50000/50000 [02:17<00:00, 363.16it/s]\n",
      "100%|███████████████████████████████████████████████████████████████████████████| 50000/50000 [02:19<00:00, 359.24it/s]\n",
      "100%|███████████████████████████████████████████████████████████████████████████| 50000/50000 [02:19<00:00, 359.30it/s]\n"
     ]
    },
    {
     "name": "stdout",
     "output_type": "stream",
     "text": [
      "Step size: 0.99 Momentum: 0.5 Validation Accuracy: 0.9551666776339212\n"
     ]
    },
    {
     "name": "stderr",
     "output_type": "stream",
     "text": [
      "100%|███████████████████████████████████████████████████████████████████████████| 50000/50000 [02:16<00:00, 366.24it/s]\n",
      "100%|███████████████████████████████████████████████████████████████████████████| 50000/50000 [02:11<00:00, 381.57it/s]\n",
      "100%|███████████████████████████████████████████████████████████████████████████| 50000/50000 [02:14<00:00, 373.01it/s]\n"
     ]
    },
    {
     "name": "stdout",
     "output_type": "stream",
     "text": [
      "Step size: 0.99 Momentum: 0.1 Validation Accuracy: 0.9541333317756653\n"
     ]
    },
    {
     "name": "stderr",
     "output_type": "stream",
     "text": [
      "100%|███████████████████████████████████████████████████████████████████████████| 50000/50000 [02:15<00:00, 370.26it/s]\n",
      "100%|███████████████████████████████████████████████████████████████████████████| 50000/50000 [02:17<00:00, 362.34it/s]\n",
      "100%|███████████████████████████████████████████████████████████████████████████| 50000/50000 [02:19<00:00, 357.29it/s]\n"
     ]
    },
    {
     "name": "stdout",
     "output_type": "stream",
     "text": [
      "Step size: 0.99 Momentum: 0.01 Validation Accuracy: 0.9526333411534628\n"
     ]
    },
    {
     "name": "stderr",
     "output_type": "stream",
     "text": [
      "100%|███████████████████████████████████████████████████████████████████████████| 50000/50000 [02:16<00:00, 365.45it/s]\n",
      "100%|███████████████████████████████████████████████████████████████████████████| 50000/50000 [02:17<00:00, 362.94it/s]\n",
      "100%|███████████████████████████████████████████████████████████████████████████| 50000/50000 [02:16<00:00, 367.32it/s]\n"
     ]
    },
    {
     "name": "stdout",
     "output_type": "stream",
     "text": [
      "Step size: 0.9 Momentum: 0.9 Validation Accuracy: 0.6787666703263919\n"
     ]
    },
    {
     "name": "stderr",
     "output_type": "stream",
     "text": [
      "100%|███████████████████████████████████████████████████████████████████████████| 50000/50000 [02:13<00:00, 374.40it/s]\n",
      "100%|███████████████████████████████████████████████████████████████████████████| 50000/50000 [02:06<00:00, 394.21it/s]\n",
      "100%|███████████████████████████████████████████████████████████████████████████| 50000/50000 [02:09<00:00, 384.97it/s]\n"
     ]
    },
    {
     "name": "stdout",
     "output_type": "stream",
     "text": [
      "Step size: 0.9 Momentum: 0.5 Validation Accuracy: 0.9555666645367942\n"
     ]
    },
    {
     "name": "stderr",
     "output_type": "stream",
     "text": [
      "100%|███████████████████████████████████████████████████████████████████████████| 50000/50000 [02:13<00:00, 374.03it/s]\n",
      "100%|███████████████████████████████████████████████████████████████████████████| 50000/50000 [02:15<00:00, 455.59it/s]\n",
      "100%|███████████████████████████████████████████████████████████████████████████| 50000/50000 [02:14<00:00, 370.77it/s]\n"
     ]
    },
    {
     "name": "stdout",
     "output_type": "stream",
     "text": [
      "Step size: 0.9 Momentum: 0.1 Validation Accuracy: 0.953233321507772\n"
     ]
    },
    {
     "name": "stderr",
     "output_type": "stream",
     "text": [
      "100%|███████████████████████████████████████████████████████████████████████████| 50000/50000 [02:15<00:00, 369.54it/s]\n",
      "100%|███████████████████████████████████████████████████████████████████████████| 50000/50000 [02:12<00:00, 376.90it/s]\n",
      "100%|███████████████████████████████████████████████████████████████████████████| 50000/50000 [02:06<00:00, 394.90it/s]\n"
     ]
    },
    {
     "name": "stdout",
     "output_type": "stream",
     "text": [
      "Step size: 0.9 Momentum: 0.01 Validation Accuracy: 0.9509666562080383\n"
     ]
    },
    {
     "name": "stderr",
     "output_type": "stream",
     "text": [
      "100%|███████████████████████████████████████████████████████████████████████████| 50000/50000 [02:09<00:00, 386.58it/s]\n",
      "100%|███████████████████████████████████████████████████████████████████████████| 50000/50000 [02:13<00:00, 373.57it/s]\n",
      "100%|███████████████████████████████████████████████████████████████████████████| 50000/50000 [02:15<00:00, 368.73it/s]\n"
     ]
    },
    {
     "name": "stdout",
     "output_type": "stream",
     "text": [
      "Step size: 0.5 Momentum: 0.9 Validation Accuracy: 0.9635999798774719\n"
     ]
    },
    {
     "name": "stderr",
     "output_type": "stream",
     "text": [
      "100%|███████████████████████████████████████████████████████████████████████████| 50000/50000 [02:16<00:00, 365.56it/s]\n",
      "100%|███████████████████████████████████████████████████████████████████████████| 50000/50000 [02:17<00:00, 364.37it/s]\n",
      "100%|███████████████████████████████████████████████████████████████████████████| 50000/50000 [02:17<00:00, 362.77it/s]\n"
     ]
    },
    {
     "name": "stdout",
     "output_type": "stream",
     "text": [
      "Step size: 0.5 Momentum: 0.5 Validation Accuracy: 0.9532333215077717\n"
     ]
    },
    {
     "name": "stderr",
     "output_type": "stream",
     "text": [
      "100%|███████████████████████████████████████████████████████████████████████████| 50000/50000 [02:13<00:00, 375.81it/s]\n",
      "100%|███████████████████████████████████████████████████████████████████████████| 50000/50000 [02:42<00:00, 307.85it/s]\n",
      "100%|███████████████████████████████████████████████████████████████████████████| 50000/50000 [02:28<00:00, 336.48it/s]\n"
     ]
    },
    {
     "name": "stdout",
     "output_type": "stream",
     "text": [
      "Step size: 0.5 Momentum: 0.1 Validation Accuracy: 0.9492666920026143\n"
     ]
    },
    {
     "name": "stderr",
     "output_type": "stream",
     "text": [
      "100%|███████████████████████████████████████████████████████████████████████████| 50000/50000 [02:22<00:00, 349.80it/s]\n",
      "100%|███████████████████████████████████████████████████████████████████████████| 50000/50000 [02:19<00:00, 359.21it/s]\n",
      "100%|███████████████████████████████████████████████████████████████████████████| 50000/50000 [02:21<00:00, 354.44it/s]\n"
     ]
    },
    {
     "name": "stdout",
     "output_type": "stream",
     "text": [
      "Step size: 0.5 Momentum: 0.01 Validation Accuracy: 0.9490000009536743\n"
     ]
    }
   ],
   "source": [
    "for step_size in [0.99,0.9,0.5]:\n",
    "    for momentum in [0.9,0.5,0.1,0.01]:\n",
    "        curr_mean = 0\n",
    "        for _ in range(3):\n",
    "            # Create the model\n",
    "            x = tf.placeholder(tf.float32, [None, 784])\n",
    "            # hidden layer 1\n",
    "            W_1 = tf.Variable(tf.random_normal([784, 125]))\n",
    "            b_1 = tf.Variable(tf.random_normal([125]))\n",
    "            z_1 = tf.matmul(x, W_1) + b_1\n",
    "            # hidden layer 2\n",
    "            W_2 = tf.Variable(tf.random_normal([125, 100]))\n",
    "            b_2 = tf.Variable(tf.random_normal([100]))\n",
    "            z_2 = tf.matmul(tf.nn.sigmoid(z_1), W_2) + b_2\n",
    "            # Output\n",
    "            W_3 = tf.Variable(tf.random_normal([100, 10]))\n",
    "            b_3 = tf.Variable(tf.random_normal([10]))\n",
    "            y = tf.matmul(tf.nn.sigmoid(z_2), W_3) + b_3\n",
    "\n",
    "            # Softmax to probabilities\n",
    "            py = tf.nn.softmax(y)\n",
    "\n",
    "            # Define labels placeholder\n",
    "            y_ = tf.placeholder(tf.float32, [None, 10])\n",
    "            cross_entropy = tf.reduce_mean(-tf.reduce_sum(y_ * tf.log(py), reduction_indices=[1]))\n",
    "            train_step = tf.train.MomentumOptimizer(step_size,momentum).minimize(cross_entropy)\n",
    "\n",
    "            # Create a Session object, initialize all variables\n",
    "            sess = tf.Session()\n",
    "            sess.run(tf.global_variables_initializer())\n",
    "\n",
    "            # Train the model\n",
    "            for i in trange(50000): \n",
    "                batch_xs, batch_ys = mnist.train.next_batch(100)\n",
    "                sess.run([train_step], feed_dict={x: batch_xs, y_: batch_ys}) \n",
    "\n",
    "            # Test trained model\n",
    "            correct_prediction = tf.equal(tf.argmax(py, 1), tf.argmax(y_, 1))\n",
    "            accuracy = tf.reduce_mean(tf.cast(correct_prediction, tf.float32))\n",
    "            curr_acc = sess.run(accuracy, feed_dict={x: mnist.test.images, y_: mnist.test.labels})\n",
    "            curr_mean += curr_acc/3\n",
    "\n",
    "            # Close session to finish\n",
    "            sess.close()\n",
    "            \n",
    "        print(\"Step size: \" + str(step_size) + \" Momentum: \" + str(momentum) + \" Validation Accuracy: \" + str(curr_mean))\n"
   ]
  },
  {
   "cell_type": "markdown",
   "metadata": {},
   "source": [
    "<br>\n",
    "<br>\n",
    "<b>(c) Use the default settings of the Adam algorithm</b>\n",
    "<br>\n",
    "<i>We did this one over 8 iterations to get as close to an appropriate validation accuracy as possible</i>\n",
    "<br>\n"
   ]
  },
  {
   "cell_type": "code",
   "execution_count": 6,
   "metadata": {},
   "outputs": [
    {
     "name": "stderr",
     "output_type": "stream",
     "text": [
      "100%|███████████████████████████████████████████████████████████████████████████| 50000/50000 [02:09<00:00, 384.85it/s]\n",
      "100%|███████████████████████████████████████████████████████████████████████████| 50000/50000 [02:24<00:00, 345.97it/s]\n",
      "100%|███████████████████████████████████████████████████████████████████████████| 50000/50000 [02:29<00:00, 335.40it/s]\n",
      "100%|███████████████████████████████████████████████████████████████████████████| 50000/50000 [02:32<00:00, 328.58it/s]\n",
      "100%|███████████████████████████████████████████████████████████████████████████| 50000/50000 [02:36<00:00, 319.99it/s]\n",
      "100%|███████████████████████████████████████████████████████████████████████████| 50000/50000 [02:35<00:00, 322.36it/s]\n",
      "100%|███████████████████████████████████████████████████████████████████████████| 50000/50000 [02:36<00:00, 320.34it/s]\n",
      "100%|███████████████████████████████████████████████████████████████████████████| 50000/50000 [02:38<00:00, 315.00it/s]\n"
     ]
    },
    {
     "name": "stdout",
     "output_type": "stream",
     "text": [
      "Adam Optimizer, default settings validation accuracy: 0.9598749876022339\n"
     ]
    }
   ],
   "source": [
    "curr_mean = 0\n",
    "for _ in range(8):\n",
    "    # Create the model\n",
    "    x = tf.placeholder(tf.float32, [None, 784])\n",
    "    # hidden layer 1\n",
    "    W_1 = tf.Variable(tf.random_normal([784, 125]))\n",
    "    b_1 = tf.Variable(tf.random_normal([125]))\n",
    "    z_1 = tf.matmul(x, W_1) + b_1\n",
    "    # hidden layer 2\n",
    "    W_2 = tf.Variable(tf.random_normal([125, 100]))\n",
    "    b_2 = tf.Variable(tf.random_normal([100]))\n",
    "    z_2 = tf.matmul(tf.nn.sigmoid(z_1), W_2) + b_2\n",
    "    # Output\n",
    "    W_3 = tf.Variable(tf.random_normal([100, 10]))\n",
    "    b_3 = tf.Variable(tf.random_normal([10]))\n",
    "    y = tf.matmul(tf.nn.sigmoid(z_2), W_3) + b_3\n",
    "\n",
    "    # Softmax to probabilities\n",
    "    py = tf.nn.softmax(y)\n",
    "\n",
    "    # Define labels placeholder\n",
    "    y_ = tf.placeholder(tf.float32, [None, 10])\n",
    "    cross_entropy = tf.reduce_mean(-tf.reduce_sum(y_ * tf.log(py), reduction_indices=[1]))\n",
    "    train_step = tf.train.AdamOptimizer().minimize(cross_entropy)\n",
    "\n",
    "    # Create a Session object, initialize all variables\n",
    "    sess = tf.Session()\n",
    "    sess.run(tf.global_variables_initializer())\n",
    "\n",
    "    # Train the model\n",
    "    for i in trange(50000): \n",
    "        batch_xs, batch_ys = mnist.train.next_batch(100)\n",
    "        sess.run([train_step], feed_dict={x: batch_xs, y_: batch_ys}) \n",
    "\n",
    "    # Test trained model\n",
    "    correct_prediction = tf.equal(tf.argmax(py, 1), tf.argmax(y_, 1))\n",
    "    accuracy = tf.reduce_mean(tf.cast(correct_prediction, tf.float32))\n",
    "    curr_acc = sess.run(accuracy, feed_dict={x: mnist.test.images, y_: mnist.test.labels})\n",
    "    curr_mean += curr_acc/8\n",
    "\n",
    "    # Close session to finish\n",
    "    sess.close()\n",
    "\n",
    "print(\"Adam Optimizer, default settings validation accuracy: \" + str(curr_mean))"
   ]
  },
  {
   "cell_type": "markdown",
   "metadata": {},
   "source": [
    "<br>\n",
    "<br>\n",
    "<b>(d) Vary the step-size of the Adam algorithm to see the change in how effective it works.</b>\n",
    "<br>\n",
    "<i>Again we vary step sizes for the Adam algorithm, a range that covers values both close to 1 and close to 0.  We average our validation accuracy over 3 attempts.</i>\n",
    "<br>"
   ]
  },
  {
   "cell_type": "code",
   "execution_count": 8,
   "metadata": {},
   "outputs": [
    {
     "ename": "SyntaxError",
     "evalue": "invalid syntax (<ipython-input-8-083794a34806>, line 45)",
     "output_type": "error",
     "traceback": [
      "\u001b[1;36m  File \u001b[1;32m\"<ipython-input-8-083794a34806>\"\u001b[1;36m, line \u001b[1;32m45\u001b[0m\n\u001b[1;33m    print(\"Adam Optimizer with Step size: \" + str(step_size) \" Validation Accuracy: \"+ str(curr_mean))\u001b[0m\n\u001b[1;37m                                                                                    ^\u001b[0m\n\u001b[1;31mSyntaxError\u001b[0m\u001b[1;31m:\u001b[0m invalid syntax\n"
     ]
    }
   ],
   "source": [
    "for step_size in [0.99,0.9,0.75,0.6,0.5,0.4,0.1,0.01]:\n",
    "    curr_mean = 0\n",
    "    for _ in range(3):\n",
    "        # Create the model\n",
    "        x = tf.placeholder(tf.float32, [None, 784])\n",
    "        # hidden layer 1\n",
    "        W_1 = tf.Variable(tf.random_normal([784, 125]))\n",
    "        b_1 = tf.Variable(tf.random_normal([125]))\n",
    "        z_1 = tf.matmul(x, W_1) + b_1\n",
    "        # hidden layer 2\n",
    "        W_2 = tf.Variable(tf.random_normal([125, 100]))\n",
    "        b_2 = tf.Variable(tf.random_normal([100]))\n",
    "        z_2 = tf.matmul(tf.nn.sigmoid(z_1), W_2) + b_2\n",
    "        # Output\n",
    "        W_3 = tf.Variable(tf.random_normal([100, 10]))\n",
    "        b_3 = tf.Variable(tf.random_normal([10]))\n",
    "        y = tf.matmul(tf.nn.sigmoid(z_2), W_3) + b_3\n",
    "\n",
    "        # Softmax to probabilities\n",
    "        py = tf.nn.softmax(y)\n",
    "\n",
    "        # Define labels placeholder\n",
    "        y_ = tf.placeholder(tf.float32, [None, 10])\n",
    "        cross_entropy = tf.reduce_mean(-tf.reduce_sum(y_ * tf.log(py), reduction_indices=[1]))\n",
    "        train_step = tf.train.AdamOptimizer(step_size).minimize(cross_entropy)\n",
    "\n",
    "        # Create a Session object, initialize all variables\n",
    "        sess = tf.Session()\n",
    "        sess.run(tf.global_variables_initializer())\n",
    "\n",
    "        # Train the model\n",
    "        for i in trange(50000): \n",
    "            batch_xs, batch_ys = mnist.train.next_batch(100)\n",
    "            sess.run([train_step], feed_dict={x: batch_xs, y_: batch_ys}) \n",
    "\n",
    "        # Test trained model\n",
    "        correct_prediction = tf.equal(tf.argmax(py, 1), tf.argmax(y_, 1))\n",
    "        accuracy = tf.reduce_mean(tf.cast(correct_prediction, tf.float32))\n",
    "        curr_acc = sess.run(accuracy, feed_dict={x: mnist.test.images, y_: mnist.test.labels})\n",
    "        curr_mean += curr_acc/3\n",
    "\n",
    "        # Close session to finish\n",
    "        sess.close()\n",
    "\n",
    "    print(\"Adam Optimizer with Step size: \" + str(step_size) + \" Validation Accuracy: \" + str(curr_mean))"
   ]
  },
  {
   "cell_type": "code",
   "execution_count": null,
   "metadata": {},
   "outputs": [],
   "source": []
  }
 ],
 "metadata": {
  "kernelspec": {
   "display_name": "Python 3",
   "language": "python",
   "name": "python3"
  },
  "language_info": {
   "codemirror_mode": {
    "name": "ipython",
    "version": 3
   },
   "file_extension": ".py",
   "mimetype": "text/x-python",
   "name": "python",
   "nbconvert_exporter": "python",
   "pygments_lexer": "ipython3",
   "version": "3.6.5"
  }
 },
 "nbformat": 4,
 "nbformat_minor": 2
}

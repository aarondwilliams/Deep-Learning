{
 "cells": [
  {
   "cell_type": "code",
   "execution_count": 1,
   "metadata": {},
   "outputs": [
    {
     "name": "stderr",
     "output_type": "stream",
     "text": [
      "C:\\Users\\Zenaardvark\\Anaconda3\\lib\\site-packages\\h5py\\__init__.py:36: FutureWarning: Conversion of the second argument of issubdtype from `float` to `np.floating` is deprecated. In future, it will be treated as `np.float64 == np.dtype(float).type`.\n",
      "  from ._conv import register_converters as _register_converters\n"
     ]
    },
    {
     "name": "stdout",
     "output_type": "stream",
     "text": [
      "WARNING:tensorflow:From <ipython-input-1-fc46c4953c68>:9: read_data_sets (from tensorflow.contrib.learn.python.learn.datasets.mnist) is deprecated and will be removed in a future version.\n",
      "Instructions for updating:\n",
      "Please use alternatives such as official/mnist/dataset.py from tensorflow/models.\n",
      "WARNING:tensorflow:From C:\\Users\\Zenaardvark\\Anaconda3\\lib\\site-packages\\tensorflow\\contrib\\learn\\python\\learn\\datasets\\mnist.py:260: maybe_download (from tensorflow.contrib.learn.python.learn.datasets.base) is deprecated and will be removed in a future version.\n",
      "Instructions for updating:\n",
      "Please write your own downloading logic.\n",
      "WARNING:tensorflow:From C:\\Users\\Zenaardvark\\Anaconda3\\lib\\site-packages\\tensorflow\\contrib\\learn\\python\\learn\\datasets\\mnist.py:262: extract_images (from tensorflow.contrib.learn.python.learn.datasets.mnist) is deprecated and will be removed in a future version.\n",
      "Instructions for updating:\n",
      "Please use tf.data to implement this functionality.\n",
      "Extracting MNIST_data/train-images-idx3-ubyte.gz\n",
      "WARNING:tensorflow:From C:\\Users\\Zenaardvark\\Anaconda3\\lib\\site-packages\\tensorflow\\contrib\\learn\\python\\learn\\datasets\\mnist.py:267: extract_labels (from tensorflow.contrib.learn.python.learn.datasets.mnist) is deprecated and will be removed in a future version.\n",
      "Instructions for updating:\n",
      "Please use tf.data to implement this functionality.\n",
      "Extracting MNIST_data/train-labels-idx1-ubyte.gz\n",
      "WARNING:tensorflow:From C:\\Users\\Zenaardvark\\Anaconda3\\lib\\site-packages\\tensorflow\\contrib\\learn\\python\\learn\\datasets\\mnist.py:110: dense_to_one_hot (from tensorflow.contrib.learn.python.learn.datasets.mnist) is deprecated and will be removed in a future version.\n",
      "Instructions for updating:\n",
      "Please use tf.one_hot on tensors.\n",
      "Extracting MNIST_data/t10k-images-idx3-ubyte.gz\n",
      "Extracting MNIST_data/t10k-labels-idx1-ubyte.gz\n",
      "WARNING:tensorflow:From C:\\Users\\Zenaardvark\\Anaconda3\\lib\\site-packages\\tensorflow\\contrib\\learn\\python\\learn\\datasets\\mnist.py:290: DataSet.__init__ (from tensorflow.contrib.learn.python.learn.datasets.mnist) is deprecated and will be removed in a future version.\n",
      "Instructions for updating:\n",
      "Please use alternatives such as official/mnist/dataset.py from tensorflow/models.\n"
     ]
    }
   ],
   "source": [
    "#Standard Imports\n",
    "import numpy as np\n",
    "import tensorflow as tf\n",
    "import random\n",
    "import matplotlib.pyplot as plt\n",
    "from tqdm import trange         \n",
    "\n",
    "from tensorflow.examples.tutorials.mnist import input_data\n",
    "mnist = input_data.read_data_sets('MNIST_data/', one_hot=True)"
   ]
  },
  {
   "cell_type": "markdown",
   "metadata": {},
   "source": [
    "**Problem 2: Implementation of a 2-layer CNN with TensorFlow (24 points)**\n",
    "\n",
    "To gain experience with the implementation of CNNs in TensorFlow, please implement a 2-layer\n",
    "CNN followed by 2 fully connected layers as an architecture for a model to classify MNIST digits.\n",
    "\n",
    "    a) Specify the network without stride and 3x3 or 5x5 filter sizes. You can choose the number\n",
    "    of filters in each layer and the number of hidden units of the first fully connected layer.\n"
   ]
  },
  {
   "cell_type": "code",
   "execution_count": 2,
   "metadata": {},
   "outputs": [],
   "source": [
    "#Input Image\n",
    "x = tf.placeholder(tf.float32, [None, 784])\n",
    "x_shaped = tf.reshape(x,[-1,28,28,1])\n",
    "\n",
    "#Convolution kernel variable - 1st layer\n",
    "W1_cl = tf.Variable(tf.truncated_normal([3, 3, 1, 4], stddev=0.1))\n",
    "#Bias Variable\n",
    "B1_cl = tf.Variable(tf.zeros([4]))\n",
    "\n",
    "#Apply layer\n",
    "conv1 = tf.nn.sigmoid( tf.nn.conv2d(x_shaped, W1_cl, strides=[1,1,1,1], padding='SAME') + B1_cl)\n",
    "\n",
    "#2nd layer weights\n",
    "W2_cl = tf.Variable(tf.truncated_normal([3, 3, 4, 8], stddev=0.1))\n",
    "B2_cl = tf.Variable(tf.zeros([8]))\n",
    "\n",
    "#Apply 2nd Layer\n",
    "conv2 = tf.nn.sigmoid(tf.nn.conv2d(conv1, W2_cl, strides=[1,1,1,1], padding='SAME') + B2_cl)"
   ]
  },
  {
   "cell_type": "code",
   "execution_count": 3,
   "metadata": {},
   "outputs": [],
   "source": [
    "#Making a flat vector of our convolutional layers\n",
    "flat_v = tf.reshape(conv2,[-1,28*28*8])\n",
    "\n",
    "#1st Fully Connected Layer\n",
    "W1_fc = tf.Variable(tf.truncated_normal([28*28*8,28*8], stddev=0.1))\n",
    "B1_fc = tf.Variable(tf.zeros([28*8]))\n",
    "\n",
    "Z_fc = tf.nn.sigmoid(tf.matmul(flat_v, W1_fc) + B1_fc)\n",
    "\n",
    "#2nd Fully Connected Layer\n",
    "W2_fc = tf.Variable(tf.truncated_normal([28*8,10], stddev=0.1))\n",
    "B2_fc = tf.Variable(tf.zeros([10]))\n",
    "\n",
    "Y_fc = tf.matmul(Z_fc,W2_fc) + B2_fc\n",
    "\n",
    "#Get Softmax\n",
    "soft_Y = tf.nn.softmax(Y_fc)\n",
    "y_actual = tf.placeholder(tf.float32, [None, 10])\n",
    "\n",
    "#For Training\n",
    "cross_entropy = tf.reduce_mean(-tf.reduce_sum(y_actual * tf.log(soft_Y), reduction_indices=[1]))\n",
    "train_step = tf.train.AdamOptimizer().minimize(cross_entropy)\n",
    "\n",
    "#For accuracy Predictions\n",
    "correct_prediction = tf.equal(tf.argmax(soft_Y, 1), tf.argmax(y_actual, 1))\n",
    "accuracy = tf.reduce_mean(tf.cast(correct_prediction, tf.float32))\n",
    "\n",
    " # Create a Session object, initialize all variables\n",
    "sess = tf.Session()\n",
    "sess.run(tf.global_variables_initializer())"
   ]
  },
  {
   "cell_type": "code",
   "execution_count": 4,
   "metadata": {},
   "outputs": [
    {
     "name": "stderr",
     "output_type": "stream",
     "text": [
      "100%|███████████████████████████████████████████████████████████████████████████| 50000/50000 [03:32<00:00, 235.31it/s]\n"
     ]
    },
    {
     "data": {
      "text/plain": [
       "[<matplotlib.lines.Line2D at 0x22f3adfe5c0>]"
      ]
     },
     "execution_count": 4,
     "metadata": {},
     "output_type": "execute_result"
    },
    {
     "data": {
      "image/png": "[encoded data removed]",
      "text/plain": [
       "<Figure size 432x288 with 1 Axes>"
      ]
     },
     "metadata": {},
     "output_type": "display_data"
    }
   ],
   "source": [
    "#Training for Convolution Layers only\n",
    "train_acc = []\n",
    "c_ent = []\n",
    "\n",
    "for i in trange(50000): \n",
    "    batch_x, batch_y = mnist.train.next_batch(100)\n",
    "    _,curr_loss,acc = sess.run([train_step,cross_entropy,accuracy], feed_dict={x: batch_x, y_actual: batch_y})\n",
    "    c_ent.append(curr_loss)\n",
    "    \n",
    "    if i%1000 == 0:\n",
    "        train_acc.append(acc)\n",
    "\n",
    "plt.plot(c_ent)\n"
   ]
  },
  {
   "cell_type": "code",
   "execution_count": 5,
   "metadata": {},
   "outputs": [
    {
     "data": {
      "text/plain": [
       "[<matplotlib.lines.Line2D at 0x22f43e11160>]"
      ]
     },
     "execution_count": 5,
     "metadata": {},
     "output_type": "execute_result"
    },
    {
     "data": {
      "image/png": "[encoded data removed]",
      "text/plain": [
       "<Figure size 432x288 with 1 Axes>"
      ]
     },
     "metadata": {},
     "output_type": "display_data"
    }
   ],
   "source": [
    "plt.plot(train_acc)"
   ]
  },
  {
   "cell_type": "code",
   "execution_count": 6,
   "metadata": {},
   "outputs": [
    {
     "name": "stdout",
     "output_type": "stream",
     "text": [
      "Final Accuracy with Convolutional Layers: 0.9791\n"
     ]
    }
   ],
   "source": [
    "#Final Validation Set Accuracy for just Convolution Layers\n",
    "curr_acc = sess.run(accuracy, feed_dict={x: mnist.test.images, y_actual: mnist.test.labels})\n",
    "print(\"Final Accuracy with Convolutional Layers: \" + str(curr_acc))\n",
    "\n",
    "sess.close()"
   ]
  },
  {
   "cell_type": "markdown",
   "metadata": {},
   "source": [
    "    b) Calculate the receptive field of your 2-layer CNN for a 28x28 MNIST image.\n",
    "   \n",
    "The receptive field is determined by the equation $r_n=r_p+s_a*(k_n-1^n )$.  For a two layer Convolutional Network with filter size 3x3 and 1^n stride, the resulting receptive field is 5x5."
   ]
  },
  {
   "cell_type": "markdown",
   "metadata": {},
   "source": [
    "**Problem 3: Adding pooling and dropout to a 2-layer CNN with TensorFlow (24 points)**\n",
    "    \n",
    "To gain a better understanding of how pooling and dropout affect the performance of CNNs,\n",
    "please try the following:\n",
    "\n",
    "    a) Add 2x2 pooling layers after each convolutional layer for the specification in Problem 2."
   ]
  },
  {
   "cell_type": "code",
   "execution_count": 7,
   "metadata": {},
   "outputs": [],
   "source": [
    "#Input Image\n",
    "x = tf.placeholder(tf.float32, [None, 784])\n",
    "x_shaped = tf.reshape(x,[-1,28,28,1])\n",
    "\n",
    "#1st layer\n",
    "W1_cl = tf.Variable(tf.truncated_normal([3, 3, 1, 4], stddev=0.1))\n",
    "B1_cl = tf.Variable(tf.zeros([4]))\n",
    "conv1 = tf.nn.sigmoid( tf.nn.conv2d(x_shaped, W1_cl, strides=[1,1,1,1], padding='SAME') + B1_cl)\n",
    "\n",
    "#Max Pooling, 1st time\n",
    "max_pool1 = tf.nn.max_pool(conv1, ksize=[1, 2, 2, 1], strides=[1, 2, 2, 1], padding='SAME')\n",
    "\n",
    "#2nd layer\n",
    "W2_cl = tf.Variable(tf.truncated_normal([3, 3, 4, 8], stddev=0.1))\n",
    "B2_cl = tf.Variable(tf.zeros([8]))\n",
    "conv2 = tf.nn.sigmoid(tf.nn.conv2d(max_pool1, W2_cl, strides=[1,1,1,1], padding='SAME') + B2_cl)\n",
    "\n",
    "max_pool2 = tf.nn.max_pool(conv2, ksize=[1, 2, 2, 1], strides=[1, 2, 2, 1], padding='SAME')\n",
    "\n",
    "#Making a flat vector of our convolutional layers\n",
    "flat_v = tf.reshape(max_pool2,[-1,7*7*8])\n",
    "\n",
    "#1st Fully Connected Layer\n",
    "W1_fc = tf.Variable(tf.truncated_normal([7*7*8,7*8], stddev=0.1))\n",
    "B1_fc = tf.Variable(tf.zeros([7*8]))\n",
    "Z_fc = tf.nn.sigmoid(tf.matmul(flat_v, W1_fc) + B1_fc)\n",
    "\n",
    "#2nd Fully Connected Layer\n",
    "W2_fc = tf.Variable(tf.truncated_normal([7*8,10], stddev=0.1))\n",
    "B2_fc = tf.Variable(tf.zeros([10]))\n",
    "Y_fc = tf.matmul(Z_fc,W2_fc) + B2_fc\n",
    "\n",
    "#Get Softmax\n",
    "soft_Y = tf.nn.softmax(Y_fc)\n",
    "y_actual = tf.placeholder(tf.float32, [None, 10])\n",
    "#For Training\n",
    "cross_entropy = tf.reduce_mean(-tf.reduce_sum(y_actual * tf.log(soft_Y), reduction_indices=[1]))\n",
    "train_step = tf.train.AdamOptimizer().minimize(cross_entropy)\n",
    "\n",
    "#For accuracy Predictions\n",
    "correct_prediction = tf.equal(tf.argmax(soft_Y, 1), tf.argmax(y_actual, 1))\n",
    "accuracy = tf.reduce_mean(tf.cast(correct_prediction, tf.float32))\n",
    "\n",
    " # Create a Session object, initialize all variables\n",
    "sess = tf.Session()\n",
    "sess.run(tf.global_variables_initializer())"
   ]
  },
  {
   "cell_type": "code",
   "execution_count": 8,
   "metadata": {},
   "outputs": [
    {
     "name": "stderr",
     "output_type": "stream",
     "text": [
      "100%|███████████████████████████████████████████████████████████████████████████| 50000/50000 [02:22<00:00, 350.99it/s]\n"
     ]
    },
    {
     "data": {
      "text/plain": [
       "[<matplotlib.lines.Line2D at 0x22f4194c2e8>]"
      ]
     },
     "execution_count": 8,
     "metadata": {},
     "output_type": "execute_result"
    },
    {
     "data": {
      "image/png": "[encoded data removed]",
      "text/plain": [
       "<Figure size 432x288 with 1 Axes>"
      ]
     },
     "metadata": {},
     "output_type": "display_data"
    }
   ],
   "source": [
    "#Training for Added Pooling\n",
    "train_acc = []\n",
    "c_ent = []\n",
    "\n",
    "for i in trange(50000): \n",
    "    batch_x, batch_y = mnist.train.next_batch(100)\n",
    "    _,curr_loss,acc = sess.run([train_step,cross_entropy,accuracy], feed_dict={x: batch_x, y_actual: batch_y})\n",
    "    c_ent.append(curr_loss)\n",
    "    \n",
    "    if i%1000 == 0:\n",
    "        train_acc.append(acc)\n",
    "\n",
    "plt.plot(c_ent)"
   ]
  },
  {
   "cell_type": "code",
   "execution_count": 9,
   "metadata": {},
   "outputs": [
    {
     "data": {
      "text/plain": [
       "[<matplotlib.lines.Line2D at 0x22f41aafc18>]"
      ]
     },
     "execution_count": 9,
     "metadata": {},
     "output_type": "execute_result"
    },
    {
     "data": {
      "image/png": "[encoded data removed]",
      "text/plain": [
       "<Figure size 432x288 with 1 Axes>"
      ]
     },
     "metadata": {},
     "output_type": "display_data"
    }
   ],
   "source": [
    "plt.plot(train_acc)"
   ]
  },
  {
   "cell_type": "code",
   "execution_count": 10,
   "metadata": {},
   "outputs": [
    {
     "name": "stdout",
     "output_type": "stream",
     "text": [
      "Final Accuracy with Pooling Included: 0.9843\n"
     ]
    }
   ],
   "source": [
    "curr_acc = sess.run(accuracy, feed_dict={x: mnist.test.images, y_actual: mnist.test.labels})\n",
    "print(\"Final Accuracy with Pooling Included: \" + str(curr_acc))\n",
    "\n",
    "sess.close()"
   ]
  },
  {
   "cell_type": "markdown",
   "metadata": {},
   "source": [
    "    b) Add dropout after the first fully connected layer for the specification in Problem 2. You\n",
    "    can choose the probability of keeping (not setting to zero) hidden unit elements."
   ]
  },
  {
   "cell_type": "code",
   "execution_count": 11,
   "metadata": {},
   "outputs": [],
   "source": [
    "#Input Image\n",
    "x = tf.placeholder(tf.float32, [None, 784])\n",
    "x_shaped = tf.reshape(x,[-1,28,28,1])\n",
    "\n",
    "#1st layer\n",
    "W1_cl = tf.Variable(tf.truncated_normal([3, 3, 1, 4], stddev=0.1))\n",
    "B1_cl = tf.Variable(tf.zeros([4]))\n",
    "conv1 = tf.nn.sigmoid( tf.nn.conv2d(x_shaped, W1_cl, strides=[1,1,1,1], padding='SAME') + B1_cl)\n",
    "\n",
    "#Max Pooling, 1st time\n",
    "max_pool1 = tf.nn.max_pool(conv1, ksize=[1, 2, 2, 1], strides=[1, 2, 2, 1], padding='SAME')\n",
    "\n",
    "#2nd layer\n",
    "W2_cl = tf.Variable(tf.truncated_normal([3, 3, 4, 8], stddev=0.1))\n",
    "B2_cl = tf.Variable(tf.zeros([8]))\n",
    "conv2 = tf.nn.sigmoid(tf.nn.conv2d(max_pool1, W2_cl, strides=[1,1,1,1], padding='SAME') + B2_cl)\n",
    "\n",
    "max_pool2 = tf.nn.max_pool(conv2, ksize=[1, 2, 2, 1], strides=[1, 2, 2, 1], padding='SAME')\n",
    "\n",
    "#Making a flat vector of our convolutional layers\n",
    "flat_v = tf.reshape(max_pool2,[-1,7*7*8])\n",
    "\n",
    "#1st Fully Connected Layer\n",
    "W1_fc = tf.Variable(tf.truncated_normal([7*7*8,7*8], stddev=0.1))\n",
    "B1_fc = tf.Variable(tf.zeros([7*8]))\n",
    "Z_fc = tf.nn.sigmoid(tf.matmul(flat_v, W1_fc) + B1_fc)\n",
    "\n",
    "fc_dropout = tf.nn.dropout(Z_fc, keep_prob=0.75, name='dropout')\n",
    "\n",
    "#2nd Fully Connected Layer\n",
    "W2_fc = tf.Variable(tf.truncated_normal([7*8,10], stddev=0.1))\n",
    "B2_fc = tf.Variable(tf.zeros([10]))\n",
    "Y_fc = tf.matmul(Z_fc,W2_fc) + B2_fc\n",
    "\n",
    "#Get Softmax\n",
    "soft_Y = tf.nn.softmax(Y_fc)\n",
    "y_actual = tf.placeholder(tf.float32, [None, 10])\n",
    "#For Training\n",
    "cross_entropy = tf.reduce_mean(-tf.reduce_sum(y_actual * tf.log(soft_Y), reduction_indices=[1]))\n",
    "train_step = tf.train.AdamOptimizer().minimize(cross_entropy)\n",
    "\n",
    "#For accuracy Predictions\n",
    "correct_prediction = tf.equal(tf.argmax(soft_Y, 1), tf.argmax(y_actual, 1))\n",
    "accuracy = tf.reduce_mean(tf.cast(correct_prediction, tf.float32))\n",
    "\n",
    " # Create a Session object, initialize all variables\n",
    "sess = tf.Session()\n",
    "sess.run(tf.global_variables_initializer())"
   ]
  },
  {
   "cell_type": "code",
   "execution_count": 12,
   "metadata": {},
   "outputs": [
    {
     "name": "stderr",
     "output_type": "stream",
     "text": [
      "100%|███████████████████████████████████████████████████████████████████████████| 50000/50000 [02:30<00:00, 331.76it/s]\n"
     ]
    },
    {
     "data": {
      "text/plain": [
       "[<matplotlib.lines.Line2D at 0x22f4b847438>]"
      ]
     },
     "execution_count": 12,
     "metadata": {},
     "output_type": "execute_result"
    },
    {
     "data": {
      "image/png": "[encoded data removed]",
      "text/plain": [
       "<Figure size 432x288 with 1 Axes>"
      ]
     },
     "metadata": {},
     "output_type": "display_data"
    }
   ],
   "source": [
    "#Training with dropout\n",
    "train_acc = []\n",
    "c_ent = []\n",
    "\n",
    "for i in trange(50000): \n",
    "    batch_x, batch_y = mnist.train.next_batch(100)\n",
    "    _,curr_loss,acc = sess.run([train_step,cross_entropy,accuracy], feed_dict={x: batch_x, y_actual: batch_y})\n",
    "    c_ent.append(curr_loss)\n",
    "    \n",
    "    if i%1000 == 0:\n",
    "        train_acc.append(acc)\n",
    "\n",
    "plt.plot(c_ent)"
   ]
  },
  {
   "cell_type": "code",
   "execution_count": 13,
   "metadata": {},
   "outputs": [
    {
     "data": {
      "text/plain": [
       "[<matplotlib.lines.Line2D at 0x22f4b898748>]"
      ]
     },
     "execution_count": 13,
     "metadata": {},
     "output_type": "execute_result"
    },
    {
     "data": {
      "image/png": "[encoded data removed]",
      "text/plain": [
       "<Figure size 432x288 with 1 Axes>"
      ]
     },
     "metadata": {},
     "output_type": "display_data"
    }
   ],
   "source": [
    "plt.plot(train_acc)"
   ]
  },
  {
   "cell_type": "code",
   "execution_count": 14,
   "metadata": {},
   "outputs": [
    {
     "name": "stdout",
     "output_type": "stream",
     "text": [
      "Final Accuracy with Dropout Included: 0.9846\n"
     ]
    }
   ],
   "source": [
    "curr_acc = sess.run(accuracy, feed_dict={x: mnist.test.images, y_actual: mnist.test.labels})\n",
    "print(\"Final Accuracy with Dropout Included: \" + str(curr_acc))\n",
    "\n",
    "sess.close()"
   ]
  },
  {
   "cell_type": "code",
   "execution_count": null,
   "metadata": {},
   "outputs": [],
   "source": []
  }
 ],
 "metadata": {
  "kernelspec": {
   "display_name": "Python 3",
   "language": "python",
   "name": "python3"
  },
  "language_info": {
   "codemirror_mode": {
    "name": "ipython",
    "version": 3
   },
   "file_extension": ".py",
   "mimetype": "text/x-python",
   "name": "python",
   "nbconvert_exporter": "python",
   "pygments_lexer": "ipython3",
   "version": "3.6.5"
  }
 },
 "nbformat": 4,
 "nbformat_minor": 2
}

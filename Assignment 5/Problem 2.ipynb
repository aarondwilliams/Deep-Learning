{
 "cells": [
  {
   "cell_type": "markdown",
   "metadata": {},
   "source": [
    "## Problem 2: Recurrent Neural Networks (30 points)\n",
    "\n",
    "Here we will work on several problems in recurrent neural networks and NLP. First, you should\n",
    "just play with word embeddings to get a greater understanding of what they are and how they\n",
    "work (and when normalized and unnormalized vectors are better)."
   ]
  },
  {
   "cell_type": "markdown",
   "metadata": {},
   "source": [
    "<font color=blue>\n",
    "Mostly for technical reasons (my GPU goes OOM when I try), I'm using the moving dataset with the NLP and the simple dataset with the RNN.  The question answers are located at the bottom of this document.\n",
    "</font>"
   ]
  },
  {
   "cell_type": "code",
   "execution_count": 1,
   "metadata": {},
   "outputs": [
    {
     "name": "stderr",
     "output_type": "stream",
     "text": [
      "C:\\Users\\Zenaardvark\\Anaconda3\\lib\\site-packages\\h5py\\__init__.py:36: FutureWarning: Conversion of the second argument of issubdtype from `float` to `np.floating` is deprecated. In future, it will be treated as `np.float64 == np.dtype(float).type`.\n",
      "  from ._conv import register_converters as _register_converters\n"
     ]
    }
   ],
   "source": [
    "# Download word vectors\n",
    "from urllib.request import urlretrieve\n",
    "import os\n",
    "import random\n",
    "import tensorflow as tf\n",
    "import matplotlib.pyplot as plt\n",
    "if not os.path.isfile('mini.h5'):\n",
    "    print(\"Downloading Conceptnet Numberbatch word embeddings...\")\n",
    "    conceptnet_url = 'http://conceptnet.s3.amazonaws.com/precomputed-data/2016/numberbatch/17.06/mini.h5'\n",
    "    urlretrieve(conceptnet_url, 'mini.h5')"
   ]
  },
  {
   "cell_type": "code",
   "execution_count": 2,
   "metadata": {},
   "outputs": [],
   "source": [
    "import numpy as np\n",
    "import h5py\n",
    "with h5py.File('mini.h5', 'r') as f:\n",
    "    all_words = [word.decode('utf-8') for word in f['mat']['axis1'][:]]\n",
    "    all_embeddings = f['mat']['block0_values'][:]"
   ]
  },
  {
   "cell_type": "code",
   "execution_count": 3,
   "metadata": {},
   "outputs": [],
   "source": [
    "english_words = [word[6:] for word in all_words if word.startswith('/c/en/')]\n",
    "english_word_indices = [i for i, word in enumerate(all_words) if word.startswith('/c/en/')]\n",
    "english_embedddings = all_embeddings[english_word_indices] "
   ]
  },
  {
   "cell_type": "code",
   "execution_count": 4,
   "metadata": {},
   "outputs": [],
   "source": [
    "norms = np.linalg.norm(english_embedddings, axis=1)\n",
    "normalized_embeddings = english_embedddings.astype('float32') / norms.astype('float32').reshape([-1, 1]) "
   ]
  },
  {
   "cell_type": "code",
   "execution_count": 5,
   "metadata": {},
   "outputs": [],
   "source": [
    "index = {word: i for i, word in enumerate(english_words)} "
   ]
  },
  {
   "cell_type": "code",
   "execution_count": 7,
   "metadata": {},
   "outputs": [],
   "source": [
    "#Let's pull our data from the Movie Review .txt\n",
    "\n",
    "import string\n",
    "remove_punct=str.maketrans('','',string.punctuation)\n",
    "\n",
    "# This function converts a line of our data file into\n",
    "# a tuple (x, y), where x is 300-dimensional representation\n",
    "# of the words in a review, and y is its label.\n",
    "def convert_line_to_ex(line):\n",
    "    # Pull out the first character: that's our label (0 or 1)\n",
    "    y = int(line[0])\n",
    "    # Split the line into words using Python's split() function\n",
    "    words = line[2:].translate(remove_punct).lower().split()\n",
    "    # Look up the embeddings of each word, ignoring words not\n",
    "    # in our pretrained vocabulary.\n",
    "    embeddings = [normalized_embeddings[index[w]] for w in words\n",
    "                  if w in index]\n",
    "    # Take the mean of the embeddings\n",
    "    x = np.mean(np.vstack(embeddings), axis=0)\n",
    "    return {'x': x, 'y': y}\n",
    "\n",
    "# Apply the function to each line in the file.\n",
    "enc = 'utf-8' # This is necessary from within the singularity shell\n",
    "with open(\"movie-pang02.txt\", \"r\", encoding=enc) as f:\n",
    "    dataset = [convert_line_to_ex(l) for l in f.readlines()]"
   ]
  },
  {
   "cell_type": "code",
   "execution_count": 8,
   "metadata": {},
   "outputs": [],
   "source": [
    "import random\n",
    "random.shuffle(dataset)\n",
    "\n",
    "batch_size = 100\n",
    "total_batches = len(dataset) // batch_size\n",
    "train_batches = 3 * total_batches // 4\n",
    "train, test = dataset[:train_batches*batch_size], dataset[train_batches*batch_size:] "
   ]
  },
  {
   "cell_type": "markdown",
   "metadata": {},
   "source": [
    "    (i) Train an MLP off of the average word embedding to predict sentiment (as done in class) but\n",
    "    optimize the network settings to maximize performance"
   ]
  },
  {
   "cell_type": "code",
   "execution_count": 9,
   "metadata": {},
   "outputs": [],
   "source": [
    "import tensorflow as tf\n",
    "import matplotlib.pyplot as plt\n",
    "\n",
    "# Use if running on a GPU\n",
    "config = tf.ConfigProto()\n",
    "config.gpu_options.allow_growth = True\n",
    "config.log_device_placement = True"
   ]
  },
  {
   "cell_type": "code",
   "execution_count": 22,
   "metadata": {},
   "outputs": [],
   "source": [
    "tf.reset_default_graph()\n",
    "\n",
    "# Placeholders for input\n",
    "X = tf.placeholder(tf.float32, [None, 300])\n",
    "y = tf.placeholder(tf.float32, [None, 1])\n",
    "\n",
    "# Three-layer MLP\n",
    "h1 = tf.layers.dense(X, 100, tf.nn.relu)\n",
    "h2 = tf.layers.dense(h1, 20, tf.nn.relu)\n",
    "logits = tf.layers.dense(h2, 1)\n",
    "probabilities = tf.sigmoid(logits)\n",
    "\n",
    "# Loss and metrics\n",
    "loss = tf.reduce_mean(tf.nn.sigmoid_cross_entropy_with_logits(logits=logits, labels=y))\n",
    "accuracy = tf.reduce_mean(tf.cast(tf.equal(tf.round(tf.sigmoid(logits)), y), tf.float32))\n",
    "\n",
    "# Training\n",
    "train_step = tf.train.AdamOptimizer(.001).minimize(loss)\n",
    "\n",
    "# Initialization of variables\n",
    "initialize_all = tf.global_variables_initializer() "
   ]
  },
  {
   "cell_type": "code",
   "execution_count": 23,
   "metadata": {},
   "outputs": [
    {
     "name": "stdout",
     "output_type": "stream",
     "text": [
      "0\n",
      "10\n",
      "20\n",
      "30\n",
      "40\n",
      "50\n",
      "60\n",
      "70\n",
      "80\n",
      "90\n",
      "100\n",
      "110\n",
      "120\n",
      "130\n",
      "140\n",
      "150\n",
      "160\n",
      "170\n",
      "180\n",
      "190\n"
     ]
    }
   ],
   "source": [
    "#Run training\n",
    "train_acc = []\n",
    "test_acc = []\n",
    "\n",
    "sess = tf.InteractiveSession()\n",
    "sess.run(initialize_all)\n",
    "for epoch in range(200):\n",
    "    for batch in range(train_batches):\n",
    "        data = train[batch*batch_size:(batch+1)*batch_size]\n",
    "        reviews = [sample['x'] for sample in data]\n",
    "        labels  = [sample['y'] for sample in data]\n",
    "        labels = np.array(labels).reshape([-1, 1])\n",
    "        _, l, acc = sess.run([train_step, loss, accuracy], feed_dict={X: reviews, y: labels})\n",
    "    if epoch % 10 == 0:\n",
    "        train_acc.append(acc)\n",
    "        test_reviews = [sample['x'] for sample in test]\n",
    "        test_labels  = [sample['y'] for sample in test]\n",
    "        test_labels = np.array(test_labels).reshape([-1, 1])\n",
    "        acc = sess.run(accuracy, feed_dict={X: test_reviews, y: test_labels})\n",
    "        test_acc.append(acc)\n",
    "        print(epoch)\n",
    "        #print(\"Epoch\", epoch, \"Loss\", l, \"Acc\", acc)\n",
    "    random.shuffle(train)"
   ]
  },
  {
   "cell_type": "code",
   "execution_count": 24,
   "metadata": {},
   "outputs": [
    {
     "name": "stdout",
     "output_type": "stream",
     "text": [
      "Final accuracy: 0.794\n"
     ]
    },
    {
     "data": {
      "image/png": "[encoded data removed]",
      "text/plain": [
       "<Figure size 432x288 with 1 Axes>"
      ]
     },
     "metadata": {},
     "output_type": "display_data"
    }
   ],
   "source": [
    "# Evaluate on test set\n",
    "test_reviews = [sample['x'] for sample in test]\n",
    "test_labels  = [sample['y'] for sample in test]\n",
    "test_labels = np.array(test_labels).reshape([-1, 1])\n",
    "acc = sess.run(accuracy, feed_dict={X: test_reviews, y: test_labels})\n",
    "sess.close()\n",
    "print(\"Final accuracy:\", acc)\n",
    "\n",
    "plt.plot(range(len(train_acc)),train_acc,range(len(train_acc)),test_acc)\n",
    "plt.show()"
   ]
  },
  {
   "cell_type": "code",
   "execution_count": 25,
   "metadata": {
    "scrolled": true
   },
   "outputs": [
    {
     "name": "stdout",
     "output_type": "stream",
     "text": [
      "acc: 0.792\n",
      "acc: 0.8\n",
      "acc: 0.798\n",
      "acc: 0.798\n",
      "acc: 0.794\n"
     ]
    }
   ],
   "source": [
    "#try_l1 = [200,150,100,75,50]\n",
    "#try_l2 = [60,40,20,10,5]\n",
    "#for l1 in try_l1:\n",
    "#for l2 in try_l2\n",
    "for _ in range(5):\n",
    "    tf.reset_default_graph()\n",
    "\n",
    "    # Placeholders for input\n",
    "    X = tf.placeholder(tf.float32, [None, 300])\n",
    "    y = tf.placeholder(tf.float32, [None, 1])\n",
    "\n",
    "    # Three-layer MLP\n",
    "    h1 = tf.layers.dense(X, 100, tf.nn.relu)\n",
    "    h2 = tf.layers.dense(h1, 20, tf.nn.relu)\n",
    "    logits = tf.layers.dense(h2, 1)\n",
    "    probabilities = tf.sigmoid(logits)\n",
    "\n",
    "    # Loss and metrics\n",
    "    loss = tf.reduce_mean(tf.nn.sigmoid_cross_entropy_with_logits(logits=logits, labels=y))\n",
    "    accuracy = tf.reduce_mean(tf.cast(tf.equal(tf.round(tf.sigmoid(logits)), y), tf.float32))\n",
    "\n",
    "    # Training\n",
    "    train_step = tf.train.AdamOptimizer().minimize(loss)\n",
    "\n",
    "    # Initialization of variables\n",
    "    initialize_all = tf.global_variables_initializer() \n",
    "\n",
    "    sess = tf.InteractiveSession()\n",
    "    sess.run(initialize_all)\n",
    "    for epoch in range(200):\n",
    "        for batch in range(train_batches):\n",
    "            data = train[batch*batch_size:(batch+1)*batch_size]\n",
    "            reviews = [sample['x'] for sample in data]\n",
    "            labels  = [sample['y'] for sample in data]\n",
    "            labels = np.array(labels).reshape([-1, 1])\n",
    "            _, l, acc = sess.run([train_step, loss, accuracy], feed_dict={X: reviews, y: labels})\n",
    "\n",
    "    test_reviews = [sample['x'] for sample in test]\n",
    "    test_labels  = [sample['y'] for sample in test]\n",
    "    test_labels = np.array(test_labels).reshape([-1, 1])\n",
    "    acc = sess.run(accuracy, feed_dict={X: test_reviews, y: test_labels})\n",
    "    sess.close()\n",
    "    print(\"acc:\", acc)\n",
    "    "
   ]
  },
  {
   "cell_type": "markdown",
   "metadata": {},
   "source": [
    "    Moving forward,  let's just use AdamOptimizer and the half the initial sizes the layering."
   ]
  },
  {
   "cell_type": "markdown",
   "metadata": {},
   "source": [
    "    (ii) Train a RNN from the word embeddings to predict sentiment (as done in class) and optimize\n",
    "    the network settings to maximize performance."
   ]
  },
  {
   "cell_type": "code",
   "execution_count": 26,
   "metadata": {},
   "outputs": [],
   "source": [
    "#Let's pull our data from the Movie Review .txt\n",
    "remove_punct=str.maketrans('','',string.punctuation)\n",
    "\n",
    "def convert_line_to_embed(line):\n",
    "    y = int(line[0])\n",
    "    words = line[2:].translate(remove_punct).lower().split()\n",
    "    \n",
    "    #We're going to repull the data, but just use the embeddings\n",
    "    embeddings = [normalized_embeddings[index[w]] for w in words\n",
    "                  if w in index]\n",
    "    return {'y': y, 'x':embeddings}\n",
    "\n",
    "# Apply the function to each line in the file.\n",
    "enc = 'utf-8' # This is necessary from within the singularity shell\n",
    "with open(\"movie-simple.txt\", \"r\", encoding=enc) as f:\n",
    "    dataset = [convert_line_to_embed(l) for l in f.readlines()]"
   ]
  },
  {
   "cell_type": "code",
   "execution_count": 27,
   "metadata": {},
   "outputs": [],
   "source": [
    "random.shuffle(dataset)\n",
    "batch_size = 1\n",
    "total_batches = len(dataset) // batch_size\n",
    "train_batches = 3 * total_batches // 4\n",
    "train, test = dataset[:train_batches*batch_size], dataset[train_batches*batch_size:]"
   ]
  },
  {
   "cell_type": "code",
   "execution_count": 46,
   "metadata": {},
   "outputs": [],
   "source": [
    "tf.reset_default_graph()\n",
    "    \n",
    "# sizes\n",
    "n_steps = None\n",
    "n_inputs = 300\n",
    "n_neurons = 100\n",
    "\n",
    "# Build RNN\n",
    "X= tf.placeholder(tf.float32, [None, n_steps, n_inputs])\n",
    "y= tf.placeholder(tf.float32, [None, 1])\n",
    "basic_cell = tf.contrib.rnn.LSTMCell(n_neurons,activation=tf.nn.tanh)\n",
    "outputs, states = tf.nn.dynamic_rnn(basic_cell, X, dtype=tf.float32)\n",
    "last_cell_output=outputs[:,-1,:]\n",
    "y_=tf.layers.dense(last_cell_output,1)\n",
    "\n",
    "# Loss and metrics\n",
    "loss = tf.reduce_mean(tf.nn.sigmoid_cross_entropy_with_logits(logits=y_, labels=y))\n",
    "accuracy = tf.reduce_mean(tf.cast(tf.equal(tf.round(tf.sigmoid(y_)), y), tf.float32))\n",
    "\n",
    "# Training\n",
    "train_step = tf.train.AdamOptimizer(0.0005).minimize(loss)\n",
    "initialize_all = tf.global_variables_initializer()"
   ]
  },
  {
   "cell_type": "code",
   "execution_count": 47,
   "metadata": {
    "scrolled": true
   },
   "outputs": [
    {
     "name": "stderr",
     "output_type": "stream",
     "text": [
      "C:\\Users\\Zenaardvark\\Anaconda3\\lib\\site-packages\\tensorflow\\python\\client\\session.py:1645: UserWarning: An interactive session is already active. This can cause out-of-memory errors in some cases. You must explicitly call `InteractiveSession.close()` to release resources held by the other session(s).\n",
      "  warnings.warn('An interactive session is already active. This can '\n"
     ]
    },
    {
     "name": "stdout",
     "output_type": "stream",
     "text": [
      "batch 99 Loss 0.6812529462154145 Acc 0.562209809641149\n",
      "batch 199 Loss 0.6464796067140935 Acc 0.6500341528217551\n",
      "batch 299 Loss 0.6012796949698598 Acc 0.698219791972338\n",
      "batch 399 Loss 0.5341334609809568 Acc 0.7873857811984872\n",
      "batch 499 Loss 0.44009819237975994 Acc 0.8543478564637345\n",
      "batch 599 Loss 0.4228448561653151 Acc 0.8714832393511676\n",
      "batch 699 Loss 0.4338927792414936 Acc 0.8689004927673253\n",
      "batch 799 Loss 0.4490734083564355 Acc 0.8215628439541967\n",
      "batch 899 Loss 0.4738998468075115 Acc 0.8147187175054778\n",
      "batch 999 Loss 0.38936516222584255 Acc 0.867774737048057\n",
      "Epoch 0 Test Accuracy 0.9065155807365439\n",
      "batch 99 Loss 0.24147058774772928 Acc 0.9151625568185527\n",
      "batch 199 Loss 0.2152916207587572 Acc 0.931914050623356\n",
      "batch 299 Loss 0.2622331786745472 Acc 0.8894132668817529\n",
      "batch 399 Loss 0.25106660052047763 Acc 0.9096636870309908\n",
      "batch 499 Loss 0.17573437686811044 Acc 0.9420561437141728\n",
      "batch 599 Loss 0.1609973229044352 Acc 0.9462397499673143\n",
      "batch 699 Loss 0.1736110972727284 Acc 0.94457567394799\n",
      "batch 799 Loss 0.12191478886616089 Acc 0.9587954377002824\n",
      "batch 899 Loss 0.19610870520431334 Acc 0.931845175569353\n",
      "batch 999 Loss 0.1504868717242182 Acc 0.9544096729135572\n",
      "Epoch 1 Test Accuracy 0.9461756373937678\n",
      "batch 99 Loss 0.12990280670061757 Acc 0.942300406509537\n",
      "batch 199 Loss 0.1562656708811395 Acc 0.9205009343736664\n",
      "batch 299 Loss 0.14077115586676026 Acc 0.9533215871131482\n",
      "batch 399 Loss 0.10851600835696663 Acc 0.9642887776432805\n",
      "batch 499 Loss 0.10707147933163147 Acc 0.9802388200853442\n",
      "batch 599 Loss 0.08265125244408746 Acc 0.9838133865069297\n",
      "batch 699 Loss 0.15053176921053912 Acc 0.9499167363288625\n",
      "batch 799 Loss 0.12299855700594116 Acc 0.9605281668217042\n",
      "batch 899 Loss 0.1290830754678228 Acc 0.957671006316542\n",
      "batch 999 Loss 0.09003544665250214 Acc 0.9628026111671595\n",
      "Epoch 2 Test Accuracy 0.9688385269121813\n",
      "batch 99 Loss 0.0706362533115542 Acc 0.9788337813077393\n",
      "batch 199 Loss 0.03762599590661745 Acc 0.992252479416171\n",
      "batch 299 Loss 0.08321575946978317 Acc 0.9643109880484083\n",
      "batch 399 Loss 0.11828964380416854 Acc 0.9504936790457484\n",
      "batch 499 Loss 0.061757446410802205 Acc 0.9818790854332913\n",
      "batch 599 Loss 0.11177599158510257 Acc 0.9686339966997596\n",
      "batch 699 Loss 0.08037450515751825 Acc 0.9762791252607446\n",
      "batch 799 Loss 0.08703438095298066 Acc 0.9643907508161087\n",
      "batch 899 Loss 0.09182452586584658 Acc 0.9767237191927955\n",
      "batch 999 Loss 0.06760456593469576 Acc 0.9875133503757854\n",
      "Epoch 3 Test Accuracy 0.9546742209631728\n",
      "batch 99 Loss 0.09150749078689795 Acc 0.9642268768952736\n",
      "batch 199 Loss 0.057339100984518554 Acc 0.9796560766357434\n",
      "batch 299 Loss 0.0335150160649222 Acc 0.9925534661002983\n",
      "batch 399 Loss 0.03423076832442302 Acc 0.9972743277623215\n",
      "batch 499 Loss 0.05278679750017325 Acc 0.9917525124497205\n",
      "batch 599 Loss 0.11639700694269195 Acc 0.9725906837019777\n",
      "batch 699 Loss 0.08326477040736652 Acc 0.9899673037827365\n",
      "batch 799 Loss 0.08233328450375603 Acc 0.9821548045675993\n",
      "batch 899 Loss 0.08273276031648474 Acc 0.970295598342963\n",
      "batch 999 Loss 0.043136348451183096 Acc 0.9891272283153544\n",
      "Epoch 4 Test Accuracy 0.9745042492917847\n",
      "batch 99 Loss 0.03914354501545048 Acc 0.985462248932347\n",
      "batch 199 Loss 0.035176968304362045 Acc 0.9845238453345618\n",
      "batch 299 Loss 0.018872144323795043 Acc 0.994335226873903\n",
      "batch 399 Loss 0.016715671232467363 Acc 0.9979265098298727\n",
      "batch 499 Loss 0.036694703215150094 Acc 0.9866406265780355\n",
      "batch 599 Loss 0.05759792303255732 Acc 0.9721560067659432\n",
      "batch 699 Loss 0.057677591835480484 Acc 0.9793170427833433\n",
      "batch 799 Loss 0.05466901469099796 Acc 0.9870666864934611\n",
      "batch 899 Loss 0.05124978271444177 Acc 0.982103298711453\n",
      "batch 999 Loss 0.04111533441292772 Acc 0.9849346508153372\n",
      "Epoch 5 Test Accuracy 0.9631728045325779\n"
     ]
    }
   ],
   "source": [
    "sess = tf.InteractiveSession()\n",
    "sess.run(initialize_all)\n",
    "l_ma=.74\n",
    "acc_ma=.5\n",
    "for epoch in range(6):\n",
    "    for batch in range(train_batches):\n",
    "        data = train[batch*batch_size:(batch+1)*batch_size]\n",
    "        reviews = np.array([sample['x'] for sample in data]).reshape([1,-1,n_inputs])\n",
    "        labels  = np.array([sample['y'] for sample in data]).reshape([1,1])\n",
    "        labels = np.array(labels).reshape([-1, 1])\n",
    "        _, l, acc = sess.run([train_step, loss, accuracy], feed_dict={X: reviews, y: labels})\n",
    "        l_ma=.99*l_ma+(.01)*l\n",
    "        acc_ma=.99*acc_ma+(.01)*acc\n",
    "        if (batch+1) % 100 == 0:\n",
    "            print(\"batch\", batch, \"Loss\", l_ma, \"Acc\", acc_ma)\n",
    "    \n",
    "    #On every epoch    \n",
    "    test_acc=0\n",
    "    n=0\n",
    "    for sample in test:\n",
    "        test_reviews = np.array([sample['x']]).reshape([1,-1,n_inputs])\n",
    "        test_labels  = np.array([sample['y']]).reshape([1,1])\n",
    "        test_labels = np.array(test_labels).reshape([-1, 1])\n",
    "        test_acc += sess.run(accuracy, feed_dict={X: test_reviews, y: test_labels})\n",
    "        n+=1\n",
    "    acc=test_acc/n \n",
    "\n",
    "    print(\"Epoch\", epoch, \"Test Accuracy\", acc)\n",
    "        \n",
    "    random.shuffle(train)"
   ]
  },
  {
   "cell_type": "markdown",
   "metadata": {},
   "source": [
    "    We're going with the LSTM RNN setup.  We're also upping the number of epochs"
   ]
  },
  {
   "cell_type": "markdown",
   "metadata": {},
   "source": [
    "    (iii) Encode each vocabulary word as a one-hot vector. Train an MLP on the average of the onehot\n",
    "    vectors"
   ]
  },
  {
   "cell_type": "code",
   "execution_count": 48,
   "metadata": {
    "scrolled": true
   },
   "outputs": [
    {
     "name": "stdout",
     "output_type": "stream",
     "text": [
      "0\n",
      "100\n",
      "200\n",
      "300\n",
      "400\n",
      "500\n",
      "600\n",
      "700\n",
      "800\n",
      "900\n",
      "1000\n",
      "1100\n",
      "1200\n",
      "1300\n",
      "1400\n",
      "1500\n",
      "1600\n",
      "1700\n",
      "1800\n",
      "1900\n",
      "list built\n",
      "0\n",
      "100\n",
      "200\n",
      "300\n",
      "400\n",
      "500\n",
      "600\n",
      "700\n",
      "800\n",
      "900\n",
      "1000\n",
      "1100\n",
      "1200\n",
      "1300\n",
      "1400\n",
      "1500\n",
      "1600\n",
      "1700\n",
      "1800\n",
      "1900\n",
      "Dataset built  2000\n"
     ]
    }
   ],
   "source": [
    "dataset = []\n",
    "#Let's build that one hot encoded dataset\n",
    "#We're runnign the more difficult review set again for the MLP\n",
    "with open(\"movie-pang02.txt\", \"r\", encoding=enc) as f:\n",
    "    \n",
    "    vocab_list = []\n",
    "    all_lines = []\n",
    "    \n",
    "    labels = []\n",
    "    \n",
    "    #Creates a vocabulary list from the text\n",
    "    for count, line in enumerate(f.readlines()):\n",
    "        labels.append(int(line[0]))\n",
    "        words = line[2:].translate(remove_punct).lower().split()\n",
    "        all_lines.append(words)\n",
    "        for word in words:\n",
    "            if word not in vocab_list:\n",
    "                vocab_list.append(word)\n",
    "        if count%100 == 0:\n",
    "            print(count)\n",
    "        \n",
    "    print(\"list built\")\n",
    "    one_hots = np.zeros(len(vocab_list))\n",
    "    \n",
    "    #Gets the averaged one_hot encodings\n",
    "    for l, line in enumerate(all_lines):\n",
    "        embeddings = []\n",
    "        for word in line:\n",
    "            one_hots[vocab_list.index(word)] += 1\n",
    "        one_hots = one_hots/sum(one_hots)\n",
    "        dataset.append({'x': one_hots, 'y': labels[l]})\n",
    "        if l%100 == 0:\n",
    "            print(l)\n",
    "    \n",
    "    print(\"Dataset built \",len(dataset))"
   ]
  },
  {
   "cell_type": "code",
   "execution_count": 49,
   "metadata": {},
   "outputs": [
    {
     "name": "stdout",
     "output_type": "stream",
     "text": [
      "39856\n"
     ]
    }
   ],
   "source": [
    "random.shuffle(dataset)\n",
    "\n",
    "batch_size = 100\n",
    "total_batches = len(dataset) // batch_size\n",
    "train_batches = 3 * total_batches // 4\n",
    "train, test = dataset[:train_batches*batch_size], dataset[train_batches*batch_size:] \n",
    "\n",
    "x_size = len(vocab_list)\n",
    "print(x_size)"
   ]
  },
  {
   "cell_type": "code",
   "execution_count": 50,
   "metadata": {},
   "outputs": [],
   "source": [
    "tf.reset_default_graph()\n",
    "\n",
    "# Placeholders for input\n",
    "X = tf.placeholder(tf.float32, [None, x_size])\n",
    "y = tf.placeholder(tf.float32, [None, 1])\n",
    "\n",
    "# Three-layer MLP\n",
    "h1 = tf.layers.dense(X, 50, tf.nn.relu)\n",
    "h2 = tf.layers.dense(h1, 10, tf.nn.relu)\n",
    "logits = tf.layers.dense(h2, 1)\n",
    "probabilities = tf.sigmoid(logits)\n",
    "\n",
    "# Loss and metrics\n",
    "loss = tf.reduce_mean(tf.nn.sigmoid_cross_entropy_with_logits(logits=logits, labels=y))\n",
    "accuracy = tf.reduce_mean(tf.cast(tf.equal(tf.round(tf.sigmoid(logits)), y), tf.float32))\n",
    "\n",
    "# Training\n",
    "train_step = tf.train.AdamOptimizer(.001).minimize(loss)\n",
    "\n",
    "# Initialization of variables\n",
    "initialize_all = tf.global_variables_initializer() "
   ]
  },
  {
   "cell_type": "code",
   "execution_count": 51,
   "metadata": {
    "scrolled": true
   },
   "outputs": [
    {
     "name": "stderr",
     "output_type": "stream",
     "text": [
      "C:\\Users\\Zenaardvark\\Anaconda3\\lib\\site-packages\\tensorflow\\python\\client\\session.py:1645: UserWarning: An interactive session is already active. This can cause out-of-memory errors in some cases. You must explicitly call `InteractiveSession.close()` to release resources held by the other session(s).\n",
      "  warnings.warn('An interactive session is already active. This can '\n"
     ]
    },
    {
     "name": "stdout",
     "output_type": "stream",
     "text": [
      "Epoch  0\n",
      "Epoch  2\n",
      "Epoch  4\n",
      "Epoch  6\n",
      "Epoch  8\n",
      "Epoch  10\n",
      "Epoch  12\n",
      "Epoch  14\n",
      "Epoch  16\n",
      "Epoch  18\n"
     ]
    }
   ],
   "source": [
    "#Run training\n",
    "train_acc = []\n",
    "test_acc = []\n",
    "\n",
    "sess = tf.InteractiveSession()\n",
    "sess.run(initialize_all)\n",
    "for epoch in range(20):\n",
    "    for batch in range(train_batches):\n",
    "        data = train[batch*batch_size:(batch+1)*batch_size]\n",
    "        reviews = [sample['x'] for sample in data]\n",
    "        labels  = [sample['y'] for sample in data]\n",
    "        labels = np.array(labels).reshape([-1, 1])\n",
    "        _, l, acc = sess.run([train_step, loss, accuracy], feed_dict={X: reviews, y: labels})\n",
    "    if epoch % 2 == 0:\n",
    "        train_acc.append(acc)\n",
    "        test_reviews = [sample['x'] for sample in test]\n",
    "        test_labels  = [sample['y'] for sample in test]\n",
    "        test_labels = np.array(test_labels).reshape([-1, 1])\n",
    "        acc = sess.run(accuracy, feed_dict={X: test_reviews, y: test_labels})\n",
    "        test_acc.append(acc)\n",
    "        print(\"Epoch \",epoch)\n",
    "        #print(\"Epoch\", epoch, \"Loss\", l, \"Acc\", acc)\n",
    "    random.shuffle(train)"
   ]
  },
  {
   "cell_type": "code",
   "execution_count": 52,
   "metadata": {},
   "outputs": [
    {
     "name": "stdout",
     "output_type": "stream",
     "text": [
      "Final accuracy: 0.888\n"
     ]
    },
    {
     "data": {
      "image/png": "[encoded data removed]",
      "text/plain": [
       "<Figure size 432x288 with 1 Axes>"
      ]
     },
     "metadata": {},
     "output_type": "display_data"
    }
   ],
   "source": [
    "# Evaluate on test set\n",
    "test_reviews = [sample['x'] for sample in test]\n",
    "test_labels  = [sample['y'] for sample in test]\n",
    "test_labels = np.array(test_labels).reshape([-1, 1])\n",
    "acc = sess.run(accuracy, feed_dict={X: test_reviews, y: test_labels})\n",
    "sess.close()\n",
    "print(\"Final accuracy:\", acc)\n",
    "\n",
    "plt.plot(range(len(train_acc)),train_acc,range(len(train_acc)),test_acc)\n",
    "plt.show()"
   ]
  },
  {
   "cell_type": "markdown",
   "metadata": {},
   "source": [
    "    (iv) As in (iii), but use an RNN on the one-hot encodings."
   ]
  },
  {
   "cell_type": "code",
   "execution_count": 64,
   "metadata": {},
   "outputs": [
    {
     "name": "stdout",
     "output_type": "stream",
     "text": [
      "0\n",
      "100\n",
      "200\n",
      "300\n",
      "400\n",
      "500\n",
      "600\n",
      "700\n",
      "800\n",
      "900\n",
      "1000\n",
      "1100\n",
      "1200\n",
      "1300\n",
      "1400\n",
      "list built\n",
      "0\n",
      "100\n",
      "200\n",
      "300\n",
      "400\n",
      "500\n",
      "600\n",
      "700\n",
      "800\n",
      "900\n",
      "1000\n",
      "1100\n",
      "1200\n",
      "1300\n",
      "1400\n",
      "Dataset built  1411\n"
     ]
    }
   ],
   "source": [
    "dataset = []\n",
    "#Let's build that one hot encoded dataset\n",
    "with open(\"movie-simple.txt\", \"r\", encoding=enc) as f:\n",
    "    \n",
    "    vocab_list = []\n",
    "    all_lines = []\n",
    "    \n",
    "    labels = []\n",
    "    \n",
    "    for count, line in enumerate(f.readlines()):\n",
    "        labels.append(int(line[0]))\n",
    "        words = line[2:].translate(remove_punct).lower().split()\n",
    "        all_lines.append(words)\n",
    "        for word in words:\n",
    "            if word not in vocab_list:\n",
    "                vocab_list.append(word)\n",
    "        if count%100 == 0:\n",
    "            print(count)\n",
    "        \n",
    "    print(\"list built\")\n",
    "    one_hots = []\n",
    "    for l, line in enumerate(all_lines):\n",
    "        one_hots = []\n",
    "        for word in line:\n",
    "            one_hot = np.zeros(len(vocab_list))\n",
    "            one_hot[vocab_list.index(word)] += 1\n",
    "            one_hots.append(one_hot)\n",
    "        dataset.append({'x': one_hots, 'y': labels[l]})\n",
    "        if l%100 == 0:\n",
    "            print(l)\n",
    "    \n",
    "    print(\"Dataset built \",len(dataset))"
   ]
  },
  {
   "cell_type": "code",
   "execution_count": 65,
   "metadata": {},
   "outputs": [],
   "source": [
    "random.shuffle(dataset)\n",
    "batch_size = 1\n",
    "total_batches = len(dataset) // batch_size\n",
    "train_batches = 3 * total_batches // 4\n",
    "train, test = dataset[:train_batches*batch_size], dataset[train_batches*batch_size:]"
   ]
  },
  {
   "cell_type": "code",
   "execution_count": 66,
   "metadata": {},
   "outputs": [],
   "source": [
    "tf.reset_default_graph()\n",
    "    \n",
    "# sizes\n",
    "n_steps = None\n",
    "n_inputs = len(vocab_list)\n",
    "n_neurons = 150\n",
    "\n",
    "# Build RNN\n",
    "X= tf.placeholder(tf.float32, [None, n_steps, n_inputs])\n",
    "y= tf.placeholder(tf.float32, [None, 1])\n",
    "basic_cell = tf.contrib.rnn.LSTMCell(n_neurons,activation=tf.nn.tanh)\n",
    "outputs, states = tf.nn.dynamic_rnn(basic_cell, X, dtype=tf.float32)\n",
    "last_cell_output=outputs[:,-1,:]\n",
    "y_=tf.layers.dense(last_cell_output,1)\n",
    "\n",
    "# Loss and metrics\n",
    "loss = tf.reduce_mean(tf.nn.sigmoid_cross_entropy_with_logits(logits=y_, labels=y))\n",
    "accuracy = tf.reduce_mean(tf.cast(tf.equal(tf.round(tf.sigmoid(y_)), y), tf.float32))\n",
    "\n",
    "# Training\n",
    "train_step = tf.train.AdamOptimizer(0.0005).minimize(loss)\n",
    "initialize_all = tf.global_variables_initializer()"
   ]
  },
  {
   "cell_type": "code",
   "execution_count": 67,
   "metadata": {
    "scrolled": true
   },
   "outputs": [
    {
     "name": "stderr",
     "output_type": "stream",
     "text": [
      "C:\\Users\\Zenaardvark\\Anaconda3\\lib\\site-packages\\tensorflow\\python\\client\\session.py:1645: UserWarning: An interactive session is already active. This can cause out-of-memory errors in some cases. You must explicitly call `InteractiveSession.close()` to release resources held by the other session(s).\n",
      "  warnings.warn('An interactive session is already active. This can '\n"
     ]
    },
    {
     "name": "stdout",
     "output_type": "stream",
     "text": [
      "batch 99 Loss 0.7085689392796922 Acc 0.5199488871510672\n",
      "batch 199 Loss 0.7099679844109034 Acc 0.6304773219950525\n",
      "batch 299 Loss 0.680517211931507 Acc 0.5390357034450857\n",
      "batch 399 Loss 0.6384245186922266 Acc 0.6650029073132011\n",
      "batch 499 Loss 0.5789077688748608 Acc 0.6912880493291421\n",
      "batch 599 Loss 0.5103176220114027 Acc 0.8110125546381033\n",
      "batch 699 Loss 0.4813289842191055 Acc 0.864002278776767\n",
      "batch 799 Loss 0.4284467725482273 Acc 0.8899384459757789\n",
      "batch 899 Loss 0.38156666716436977 Acc 0.9179369719688479\n",
      "batch 999 Loss 0.48323079479364395 Acc 0.850279072189992\n",
      "Epoch 0 Test Accuracy 0.8441926345609065\n",
      "batch 99 Loss 0.4175599475913576 Acc 0.8825376816397188\n",
      "batch 199 Loss 0.36055877656523166 Acc 0.9107705998228416\n",
      "batch 299 Loss 0.29959452528934366 Acc 0.9380816840577643\n",
      "batch 399 Loss 0.24455103003022086 Acc 0.9500754644536813\n",
      "batch 499 Loss 0.19691308109180689 Acc 0.9588918915157679\n",
      "batch 599 Loss 0.20782721747625893 Acc 0.9371406756165866\n",
      "batch 699 Loss 0.21314054746781613 Acc 0.9376926118554901\n",
      "batch 799 Loss 0.2013730613642836 Acc 0.9503815607627801\n",
      "batch 899 Loss 0.16897040751243558 Acc 0.9468976578800877\n",
      "batch 999 Loss 0.13267824832768074 Acc 0.9541319294098487\n",
      "Epoch 1 Test Accuracy 0.9178470254957507\n",
      "batch 99 Loss 0.1005072506090378 Acc 0.977422334479097\n",
      "batch 199 Loss 0.1599468855172014 Acc 0.9787211680345177\n",
      "batch 299 Loss 0.13713210296977849 Acc 0.9785926878358854\n",
      "batch 399 Loss 0.14079038868422894 Acc 0.9703570183166723\n",
      "batch 499 Loss 0.13910725222272133 Acc 0.9738928929646683\n",
      "batch 599 Loss 0.09414884480759897 Acc 0.985395095600116\n",
      "batch 699 Loss 0.07802511471765709 Acc 0.9876196556984432\n",
      "batch 799 Loss 0.041804769376386754 Acc 0.9954683935895327\n",
      "batch 899 Loss 0.03266490037278294 Acc 0.998341285495848\n",
      "batch 999 Loss 0.037409727811004205 Acc 0.9918456639745047\n",
      "Epoch 2 Test Accuracy 0.9348441926345609\n",
      "batch 99 Loss 0.03196041343665679 Acc 0.9938132782456434\n",
      "batch 199 Loss 0.023648764257405693 Acc 0.9977354597514474\n",
      "batch 299 Loss 0.01791732295890393 Acc 0.9991711050309148\n",
      "batch 399 Loss 0.02182001760301187 Acc 0.9932055713501122\n",
      "batch 499 Loss 0.035899047295551524 Acc 0.9937406529044324\n",
      "batch 599 Loss 0.033441797181363905 Acc 0.991019158942071\n",
      "batch 699 Loss 0.15507475920703404 Acc 0.960775612012078\n",
      "batch 799 Loss 0.0722748387455381 Acc 0.9856426054297712\n",
      "batch 899 Loss 0.07969233512245709 Acc 0.9702357755201013\n",
      "batch 999 Loss 0.0869384304532532 Acc 0.9758126008496248\n",
      "Epoch 3 Test Accuracy 0.9348441926345609\n",
      "batch 99 Loss 0.049536083899164064 Acc 0.9850330560125801\n",
      "batch 199 Loss 0.06327002630821255 Acc 0.9806119754746154\n",
      "batch 299 Loss 0.03567916108494441 Acc 0.9929033559903103\n",
      "batch 399 Loss 0.023574917080179985 Acc 0.9974023987779508\n",
      "batch 499 Loss 0.015650419747805174 Acc 0.9990491939429993\n",
      "batch 599 Loss 0.019543894671091442 Acc 0.9936019135614839\n",
      "batch 699 Loss 0.012191617862921115 Acc 0.9976580934412416\n",
      "batch 799 Loss 0.00865900921323057 Acc 0.9991427864592546\n",
      "batch 899 Loss 0.009942666541285991 Acc 0.9996862321207096\n",
      "batch 999 Loss 0.011053915055536627 Acc 0.9998851508085267\n",
      "Epoch 4 Test Accuracy 0.9376770538243626\n"
     ]
    }
   ],
   "source": [
    "#Run training\n",
    "sess = tf.InteractiveSession()\n",
    "sess.run(initialize_all)\n",
    "l_ma=.74\n",
    "acc_ma=.5\n",
    "for epoch in range(5):\n",
    "    for batch in range(train_batches):\n",
    "        data = train[batch*batch_size:(batch+1)*batch_size]\n",
    "        reviews = np.array([sample['x'] for sample in data]).reshape([1,-1,n_inputs])\n",
    "        labels  = np.array([sample['y'] for sample in data]).reshape([1,1])\n",
    "        labels = np.array(labels).reshape([-1, 1])\n",
    "        _, l, acc = sess.run([train_step, loss, accuracy], feed_dict={X: reviews, y: labels})\n",
    "        l_ma=.99*l_ma+(.01)*l\n",
    "        acc_ma=.99*acc_ma+(.01)*acc\n",
    "        if (batch+1) % 100 == 0:\n",
    "            print(\"batch\", batch, \"Loss\", l_ma, \"Acc\", acc_ma)\n",
    "    \n",
    "    #On every epoch    \n",
    "    test_acc=0\n",
    "    n=0\n",
    "    for sample in test:\n",
    "        test_reviews = np.array([sample['x']]).reshape([1,-1,n_inputs])\n",
    "        test_labels  = np.array([sample['y']]).reshape([1,1])\n",
    "        test_labels = np.array(test_labels).reshape([-1, 1])\n",
    "        test_acc += sess.run(accuracy, feed_dict={X: test_reviews, y: test_labels})\n",
    "        n+=1\n",
    "    acc=test_acc/n \n",
    "\n",
    "    print(\"Epoch\", epoch, \"Test Accuracy\", acc)\n",
    "        \n",
    "    random.shuffle(train)\n",
    "    \n",
    "sess.close()"
   ]
  },
  {
   "cell_type": "markdown",
   "metadata": {},
   "source": [
    "    (v) Why did the word embeddings work better (hint: the word embeddings will work better…)"
   ]
  },
  {
   "cell_type": "markdown",
   "metadata": {},
   "source": [
    "Word embeddings were established to provide a distributed representation of words in way such that similar words are more closely positioned to each other in a high dimensional space.  This means that similar words bear a similar distribution across  their associated embedded vectors.  \n",
    "\n",
    "If a word  occurs only a few times  across the data passages that we looked at, then we have a very limited association for what that word might mean if just using one-hot vectors.  However, a word may only appear once across all training passages, but by being closely associated with certain words it can be identified as having a particular connotation without every appearing in training.  "
   ]
  },
  {
   "cell_type": "markdown",
   "metadata": {},
   "source": [
    "    (vi) How does cross-validation change when considering a time-series instead of multiple\n",
    "    instances (as in our movie reviews)? Only a description is needed."
   ]
  },
  {
   "cell_type": "markdown",
   "metadata": {},
   "source": [
    "In typical cross-validation, you break up your data into random subsets.  You draw multiple training and test sets from those  groupings in a typically organized fashion.  Unfortunately, when attempting to cross-validate a time-series, you run into the issue that your algorithm is holding information between series.  For that reason, you need to make sure that the items you are testing on are able to hold on to that transition information when applicable.\n",
    "\n",
    "One example I remember given is class is that if a given dataset is full time series, you can break apart the time series into even sections.  You train on the first section, and then test on the second section.  Train on the second section, and test on the third section, and continue in this manner until you've passed through all of the data.  This gives you a good loock at if your RNN is storing appropriate information."
   ]
  },
  {
   "cell_type": "code",
   "execution_count": null,
   "metadata": {},
   "outputs": [],
   "source": []
  }
 ],
 "metadata": {
  "kernelspec": {
   "display_name": "Python 3",
   "language": "python",
   "name": "python3"
  },
  "language_info": {
   "codemirror_mode": {
    "name": "ipython",
    "version": 3
   },
   "file_extension": ".py",
   "mimetype": "text/x-python",
   "name": "python",
   "nbconvert_exporter": "python",
   "pygments_lexer": "ipython3",
   "version": "3.6.5"
  }
 },
 "nbformat": 4,
 "nbformat_minor": 2
}

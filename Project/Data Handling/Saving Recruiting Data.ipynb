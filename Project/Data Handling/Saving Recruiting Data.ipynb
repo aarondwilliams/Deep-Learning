{
 "cells": [
  {
   "cell_type": "code",
   "execution_count": 1,
   "metadata": {},
   "outputs": [],
   "source": [
    "#Imports\n",
    "import numpy as np"
   ]
  },
  {
   "cell_type": "code",
   "execution_count": 2,
   "metadata": {},
   "outputs": [
    {
     "name": "stdout",
     "output_type": "stream",
     "text": [
      "891\n",
      "900\n",
      "1000\n",
      "1000\n",
      "900\n",
      "1000\n",
      "1000\n",
      "1000\n",
      "1000\n",
      "1000\n",
      "900\n",
      "900\n",
      "1000\n",
      "1000\n",
      "1000\n",
      "1000\n",
      "[['1\\t' ' \\t' 'Texas' '28\\t' '6\\t' '15\\t' '5\\t' '3.89\\t' '2792']\n",
      " ['2\\t' ' \\t' 'Tennessee' '25\\t' '5\\t' '16\\t' '2\\t' '3.96\\t' '2534']\n",
      " ['3\\t' ' \\t' 'Georgia' '30\\t' '1\\t' '18\\t' '8\\t' '3.5\\t' '2447']]\n"
     ]
    }
   ],
   "source": [
    "\n",
    "#Data contains all of statistical information from the game\n",
    "recruit_list = []\n",
    "\n",
    "for year in range(2002,2018):\n",
    "\n",
    "    file_ref = \"./Recruiting/{}.txt\".format(year)\n",
    "    by_year = np.loadtxt(file_ref,dtype='str',delimiter='\\t\\n')\n",
    "    \n",
    "    print(len(by_year))\n",
    "    \n",
    "    if np.mod(len(by_year),9) == 0:\n",
    "        shaped = by_year.reshape(int(len(by_year)/9),9)\n",
    "    else:\n",
    "        shaped = by_year.reshape(int(len(by_year)/10),10)\n",
    "        shaped = np.delete(shaped,3,1)\n",
    "                                 \n",
    "    recruit_list.append(shaped)  \n",
    "    \n",
    "print((recruit_list[0])[:3])"
   ]
  },
  {
   "cell_type": "code",
   "execution_count": 3,
   "metadata": {},
   "outputs": [],
   "source": [
    "#Let's read in our team map\n",
    "teams = np.loadtxt(\"./teams.csv\",dtype='str',delimiter=', ',ndmin=2)\n",
    "\n",
    "def findteam(team_name):\n",
    "    #Looks for index given a team name\n",
    "    \n",
    "    for i in range(len(teams)):\n",
    "        for j in range(3):\n",
    "            if teams[i,j] == team_name:\n",
    "                return i\n",
    "    #200 is false\n",
    "    return 200"
   ]
  },
  {
   "cell_type": "code",
   "execution_count": 4,
   "metadata": {},
   "outputs": [
    {
     "name": "stdout",
     "output_type": "stream",
     "text": [
      "[1.95385588e+01 2.74968394e-01 2.81226296e+00 8.27307206e+00\n",
      " 2.28807206e+00 8.34805942e+02]\n",
      "[  9.42309171   0.76150624   4.02294636   6.04293702   1.10324565\n",
      " 740.57039188]\n"
     ]
    }
   ],
   "source": [
    "num_years = len(recruit_list)\n",
    "num_teams = len(teams)\n",
    "#We're adding in two years (2000 and 2001) of repeated data from 2002\n",
    "per_team = np.zeros((num_teams,num_years+2,6))\n",
    "\n",
    "\n",
    "for year in range(num_years):\n",
    "    \n",
    "    recruit_class = recruit_list[year]\n",
    "    \n",
    "    for rank in recruit_class:\n",
    "    \n",
    "        curr_team = findteam(rank[2])\n",
    "\n",
    "        if curr_team != 200:\n",
    "            \n",
    "            vec = np.zeros(6)\n",
    "            for i in range(5):\n",
    "                vec[i] = float(rank[i+3].replace(\"\\t\", \"\"))\n",
    "            vec[5] = float(rank[8])\n",
    "            \n",
    "            if year == 0:\n",
    "                per_team[curr_team,(0,1,2)] = vec\n",
    "            else:\n",
    "                per_team[curr_team,year+2] = vec\n",
    "#Normalize\n",
    "curr_means = np.zeros(6)\n",
    "curr_stds = np.zeros(6)\n",
    "\n",
    "for i in range(6):\n",
    "    flat_recruits = np.ndarray.flatten(per_team[:,2:16,i])\n",
    "    curr_means[i] = np.mean(flat_recruits)\n",
    "    curr_stds[i] = np.std(flat_recruits)\n",
    "    per_team[:,:,i] = (per_team[:,:,i] - curr_means[i])/curr_stds[i]\n",
    "\n",
    "print(curr_means)\n",
    "print(curr_stds)"
   ]
  },
  {
   "cell_type": "code",
   "execution_count": 5,
   "metadata": {},
   "outputs": [
    {
     "data": {
      "text/plain": [
       "array([[-2.07394615, -2.07394615, -2.07394615, -2.07394615, -2.07394615,\n",
       "        -2.07394615, -2.07394615, -2.07394615, -2.07394615, -2.07394615,\n",
       "        -2.07394615, -0.11608662, -2.07394615, -0.53303819, -2.07394615,\n",
       "        -2.07394615, -0.27924158, -2.07394615],\n",
       "       [-0.13421495, -0.13421495, -0.13421495, -0.21579243, -2.07394615,\n",
       "        -0.0707658 , -0.10702246, -0.00731665, -0.17953577,  0.03800417,\n",
       "        -0.04357331, -2.07394615, -2.07394615, -2.07394615, -2.07394615,\n",
       "        -2.07394615, -2.07394615, -2.07394615],\n",
       "       [ 0.83565065,  0.83565065,  0.83565065,  0.64530319,  0.55466155,\n",
       "         0.67249569,  1.19821723,  0.8990998 ,  1.29792303,  1.37950051,\n",
       "         1.20728139,  1.4338855 ,  1.34324386,  1.40669301,  1.47920632,\n",
       "         1.44294967,  1.39762884,  1.64236128]])"
      ]
     },
     "execution_count": 5,
     "metadata": {},
     "output_type": "execute_result"
    }
   ],
   "source": [
    "per_team[0:3,:,4]"
   ]
  },
  {
   "cell_type": "code",
   "execution_count": 6,
   "metadata": {},
   "outputs": [],
   "source": [
    "np.save(\"./Stored NPs/recruiting.npy\",per_team)\n",
    "np.save(\"./Stored NPs/recruiting_means.npy\",curr_means)\n",
    "np.save(\"./Stored NPs/recruiting_stds.npy\",curr_stds)"
   ]
  },
  {
   "cell_type": "code",
   "execution_count": null,
   "metadata": {},
   "outputs": [],
   "source": []
  }
 ],
 "metadata": {
  "kernelspec": {
   "display_name": "Python 3",
   "language": "python",
   "name": "python3"
  },
  "language_info": {
   "codemirror_mode": {
    "name": "ipython",
    "version": 3
   },
   "file_extension": ".py",
   "mimetype": "text/x-python",
   "name": "python",
   "nbconvert_exporter": "python",
   "pygments_lexer": "ipython3",
   "version": "3.6.5"
  }
 },
 "nbformat": 4,
 "nbformat_minor": 2
}

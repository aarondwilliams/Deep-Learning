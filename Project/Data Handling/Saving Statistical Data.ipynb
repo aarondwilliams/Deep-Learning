{
 "cells": [
  {
   "cell_type": "code",
   "execution_count": 1,
   "metadata": {},
   "outputs": [],
   "source": [
    "#Imports\n",
    "import numpy as np"
   ]
  },
  {
   "cell_type": "code",
   "execution_count": 2,
   "metadata": {},
   "outputs": [],
   "source": [
    "#Let's start loading our data into arrays\n",
    "\n",
    "#2001->2017\n",
    "#Data contains all of statistical information from the game\n",
    "data_list = []\n",
    "#Info has the dates and which teams played\n",
    "info_list = []\n",
    "\n",
    "for year in range(2001,2018):\n",
    "\n",
    "    file_ref = \"./Game Data/{}.csv\".format(year)\n",
    "    data_cols = (2,3,4,5,6,9,10,17,19,20,21,22,23,26,27,34)\n",
    "    info_cols = (0,1,18)\n",
    "    \n",
    "    data_list.append(np.loadtxt(file_ref,delimiter=',',skiprows=1,usecols=data_cols,ndmin=2))\n",
    "    info_list.append(np.loadtxt(file_ref,dtype='str',delimiter=',',skiprows=1,usecols=info_cols,ndmin=2))"
   ]
  },
  {
   "cell_type": "code",
   "execution_count": 3,
   "metadata": {},
   "outputs": [
    {
     "name": "stdout",
     "output_type": "stream",
     "text": [
      "[[101.  30. 272.  32.  18.   0.   1.  45. 407.  68. 137.  16.   8.   0.\n",
      "    0.  24.]\n",
      " [ 64.  35. 226.  41.  17.   4.   1.  27. 108.  33. 178.  31.  21.   0.\n",
      "    1.  41.]\n",
      " [159.  50. 151.  18.  10.   0.   1.  21.  56.  28. 130.  22.  11.   0.\n",
      "    0.   7.]]\n",
      "[['8/23/2001' ' Louisville' ' New Mexico St']\n",
      " ['8/25/2001' ' UNC' ' Oklahoma']\n",
      " ['8/25/2001' ' Nebraska' ' TCU']]\n"
     ]
    }
   ],
   "source": [
    "#Data Check\n",
    "print(data_list[0][:3])\n",
    "print(info_list[0][:3])"
   ]
  },
  {
   "cell_type": "code",
   "execution_count": 4,
   "metadata": {},
   "outputs": [],
   "source": [
    "#Let's read in our team map\n",
    "teams = np.loadtxt(\"./teams.csv\",dtype='str',delimiter=', ',ndmin=2)\n",
    "\n",
    "def findteam(team_name):\n",
    "    #Looks for index given a team name\n",
    "    team_name = team_name[1:]\n",
    "    \n",
    "    for i in range(len(teams)):\n",
    "        for j in range(3):\n",
    "            if teams[i,j] == team_name:\n",
    "                return i\n",
    "    #200 is false\n",
    "    return 200"
   ]
  },
  {
   "cell_type": "code",
   "execution_count": 5,
   "metadata": {},
   "outputs": [],
   "source": [
    "#Let's create a function that looks at a year of ordered dates and converts them to a list of scalars\n",
    "def scale_dates(date_list):\n",
    "    \n",
    "    print(date_list[0])\n",
    "    if \"/\" in date_list[0]:\n",
    "        for i in range(len(date_list)):\n",
    "            hold_date = date_list[i].split('/')\n",
    "\n",
    "            if len(hold_date[0]) == 1:\n",
    "                hold_date[0] = \"0\" + hold_date[0]\n",
    "\n",
    "            if len(hold_date[1]) == 1:\n",
    "                hold_date[1] = \"0\" + hold_date[1]\n",
    "\n",
    "            date_list[i] = \"{}-{}-{}\".format(hold_date[2],hold_date[0],hold_date[1])\n",
    "    \n",
    "    num_games = len(date_list)\n",
    "    scaled_dates = np.zeros(num_games)\n",
    "    \n",
    "    first_date = np.datetime64(date_list[0])\n",
    "    last_date = np.datetime64(date_list[-1])\n",
    "    total_days = last_date - first_date\n",
    "    \n",
    "    for game in range(num_games):\n",
    "        scaled_dates[game] = (np.datetime64(date_list[game]) - first_date)/total_days\n",
    "        \n",
    "    return scaled_dates"
   ]
  },
  {
   "cell_type": "code",
   "execution_count": 6,
   "metadata": {
    "scrolled": false
   },
   "outputs": [
    {
     "name": "stdout",
     "output_type": "stream",
     "text": [
      "8/23/2001\n",
      "2002-08-22\n",
      "2003-08-23\n",
      "2004-08-28\n",
      "2005-09-01\n",
      "2006-08-31\n",
      "2007-08-30\n",
      "2008-08-28\n",
      "2009-09-03\n",
      "2010-09-02\n",
      "2011-09-01\n",
      "2012-08-30\n",
      "2013-08-29\n",
      "2014-08-28\n",
      "2015-09-03\n",
      "8/27/2016\n",
      "8/26/2017\n"
     ]
    }
   ],
   "source": [
    "#Now let's create a list of numpy arrays with our date and opponent data\n",
    "modified_info = []\n",
    "\n",
    "assert(len(data_list) == len(info_list))\n",
    "years = len(data_list)\n",
    "\n",
    "for year in range(years):\n",
    "    \n",
    "    curr_data = data_list[year]\n",
    "    curr_info = info_list[year]\n",
    "    \n",
    "    #assert(len(curr_data) == len(curr_info))\n",
    "    games = len(curr_data)\n",
    "    visitor_list = []\n",
    "    home_list = []\n",
    "    date_list = []\n",
    "    del_list = []\n",
    "    \n",
    "    for game in range(games):\n",
    "        #We need to make sure that both teams are fbs members\n",
    "        visitor = findteam(curr_info[game,1])\n",
    "        home = findteam(curr_info[game,2])\n",
    "        \n",
    "        if visitor == 200 or home == 200:\n",
    "            del_list.append(game)\n",
    "        else:\n",
    "            visitor_list.append(visitor)\n",
    "            home_list.append(home)\n",
    "            date_list.append(curr_info[game,0])\n",
    "    \n",
    "    data_list[year] = np.delete(curr_data, del_list, 0)\n",
    "    info_list[year] = np.delete(curr_info, del_list, 0)\n",
    "    assert(len(data_list[year]) == len(visitor_list))\n",
    "    \n",
    "    modified = np.zeros((len(data_list[year]),4))\n",
    "    modified[:,0] = year + 2001\n",
    "    modified[:,1] = scale_dates(date_list)\n",
    "    modified[:,2] = visitor_list\n",
    "    modified[:,3] = home_list\n",
    "    \n",
    "    modified_info.append(modified)"
   ]
  },
  {
   "cell_type": "code",
   "execution_count": 7,
   "metadata": {},
   "outputs": [
    {
     "name": "stdout",
     "output_type": "stream",
     "text": [
      "[[2.00100000e+03 0.00000000e+00 4.30000000e+01 6.00000000e+01]\n",
      " [2.00100000e+03 1.86915888e-02 6.10000000e+01 6.90000000e+01]\n",
      " [2.00100000e+03 1.86915888e-02 5.70000000e+01 8.70000000e+01]\n",
      " ...\n",
      " [2.00100000e+03 9.90654206e-01 8.40000000e+01 8.70000000e+01]\n",
      " [2.00100000e+03 1.00000000e+00 4.40000000e+01 8.90000000e+01]\n",
      " [2.00100000e+03 1.00000000e+00 1.40000000e+01 3.10000000e+01]]\n"
     ]
    }
   ],
   "source": [
    "print(modified_info[0])"
   ]
  },
  {
   "cell_type": "code",
   "execution_count": 8,
   "metadata": {
    "scrolled": true
   },
   "outputs": [
    {
     "name": "stdout",
     "output_type": "stream",
     "text": [
      "0\n",
      "1\n",
      "2\n",
      "3\n",
      "4\n",
      "5\n",
      "6\n",
      "7\n",
      "[[-0.6436303  -0.80213641  0.50104176  0.02279448 -0.06184219 -0.89446651\n",
      "  -0.0038844   1.03301879  2.78820267  2.91156713 -0.91461981 -1.46685294\n",
      "  -1.41266531 -0.89446651 -0.95765302 -0.15957056]\n",
      " [-1.0585905  -0.31349121  0.01866819  0.86072115 -0.19692451  3.4419017\n",
      "  -0.0038844   0.01079935 -0.56512432 -0.50894929 -0.48467815 -0.07030849\n",
      "   0.34340474 -0.89446651 -0.0038844   0.80585891]\n",
      " [ 0.00684784  1.1524444  -0.76781046 -1.28064701 -1.14250069 -0.89446651\n",
      "  -0.0038844  -0.32994047 -1.14831162 -0.99759449 -0.98802448 -0.90823516\n",
      "  -1.00741838 -0.89446651 -0.95765302 -1.12500004]\n",
      " [ 3.12465688  1.05471536  0.76320131  0.11589744  1.15389861  0.18962554\n",
      "  -0.95765302  2.45276802  0.67975627  0.46834112  0.67931026  1.60554485\n",
      "   0.61356936 -0.89446651 -0.0038844   0.4651191 ]\n",
      " [-0.34082151 -0.50894929 -0.48467815  0.02279448 -0.73725375  0.18962554\n",
      "   0.94988423 -0.55710035  0.78069253  1.25017344 -0.34835518 -0.72202923\n",
      "  -1.14250069 -0.89446651 -0.0038844  -0.04599062]]\n"
     ]
    }
   ],
   "source": [
    "###Normalization!!!!\n",
    "\n",
    "means = np.zeros(8)\n",
    "stds = np.zeros(8)\n",
    "\n",
    "#Years 2001-2015\n",
    "all_data = data_list[0:15][:]\n",
    "\n",
    "for i in range(8):\n",
    "\n",
    "    flat_stat = []\n",
    "    for years in all_data:\n",
    "        for games in years:\n",
    "            flat_stat.append(games[i])\n",
    "            flat_stat.append(games[i+8])\n",
    "    \n",
    "    #print(flat_stat)\n",
    "    means[i] = np.mean(flat_stat)\n",
    "    stds[i] = np.std(flat_stat)\n",
    "    \n",
    "    for year in range(len(data_list)):\n",
    "        for game in range(len(data_list[year])):\n",
    "            data_list[year][game][i] = (data_list[year][game][i] - means[i])/stds[i]\n",
    "\n",
    "            data_list[year][game][i+8] = (data_list[year][game][i+8] - means[i])/stds[i]\n",
    "\n",
    "print(data_list[0][0:5][:])"
   ]
  },
  {
   "cell_type": "code",
   "execution_count": 9,
   "metadata": {},
   "outputs": [],
   "source": [
    "def stat_vectors(game,info):\n",
    "    #[VRY VRA VPY VPA VPC VF VI VS HRY HRA HPY HPA HPC HF HI HS] - 16\n",
    "    #order doesn't matter too much on these vectors\n",
    "    visitor_vec = np.zeros(28)\n",
    "    home_vec = np.zeros(28)\n",
    "        \n",
    "    visitor_vec[2:18] = game\n",
    "    home_vec[2:10] = game[8:]\n",
    "    home_vec[10:18] = game[:8]\n",
    "    \n",
    "    home_vec[1] = 1\n",
    "    home_vec[0] = info[1]\n",
    "    visitor_vec[0] = info[1]\n",
    "    #Year and opposing team number\n",
    "    home_vec[26] = info[0]\n",
    "    visitor_vec[26] = info[0]\n",
    "    home_vec[27] = info[2]\n",
    "    visitor_vec[27] = info[3]\n",
    "    \n",
    "    #(0,19:) is left open for input\n",
    "    return visitor_vec, home_vec"
   ]
  },
  {
   "cell_type": "code",
   "execution_count": 10,
   "metadata": {
    "scrolled": true
   },
   "outputs": [
    {
     "name": "stdout",
     "output_type": "stream",
     "text": [
      "2001\n",
      "2002\n",
      "2003\n",
      "2004\n",
      "2005\n",
      "2006\n"
     ]
    },
    {
     "name": "stderr",
     "output_type": "stream",
     "text": [
      "C:\\Users\\Zenaardvark\\Anaconda3\\lib\\site-packages\\ipykernel_launcher.py:35: FutureWarning: elementwise comparison failed; returning scalar instead, but in the future will perform elementwise comparison\n",
      "C:\\Users\\Zenaardvark\\Anaconda3\\lib\\site-packages\\ipykernel_launcher.py:19: FutureWarning: elementwise comparison failed; returning scalar instead, but in the future will perform elementwise comparison\n"
     ]
    },
    {
     "name": "stdout",
     "output_type": "stream",
     "text": [
      "2007\n",
      "2008\n",
      "2009\n",
      "2010\n",
      "2011\n",
      "2012\n",
      "2013\n",
      "2014\n",
      "2015\n",
      "2016\n",
      "2017\n"
     ]
    }
   ],
   "source": [
    "#Finally, let's put togethor our data to be saved into a bunch of numpy arrays\n",
    "\n",
    "years = len(data_list)\n",
    "stat_list = [\"None\"] * len(teams)\n",
    "\n",
    "for year in range(years):\n",
    "    \n",
    "    print(year+2001)\n",
    "    num_games = len(modified_info[year])\n",
    "    \n",
    "    for game in range(num_games):\n",
    "        \n",
    "        curr_info = (modified_info[year])[game]\n",
    "        visit_team = int(curr_info[2])\n",
    "        home_team = int(curr_info[3])\n",
    "        \n",
    "        visit_vec, home_vec = stat_vectors((data_list[year])[game],curr_info)\n",
    "        \n",
    "        if stat_list[visit_team] == \"None\":\n",
    "            stat_list[visit_team] = visit_vec\n",
    "        else:\n",
    "            \n",
    "            if stat_list[visit_team].ndim == 1:\n",
    "                last_vec = stat_list[visit_team]\n",
    "            else:\n",
    "                last_vec = stat_list[visit_team][-1,0:18]\n",
    "            \n",
    "            if not np.array_equal(visit_vec[0:18],last_vec):\n",
    "            #Conditionally check if the previous game is a copy (problem with dataset)\n",
    "                if year >= 1:\n",
    "                    visit_vec[18:26] = sum((stat_list[home_team])[-10:,2:10])/10\n",
    "                stat_list[visit_team] = np.vstack((stat_list[visit_team],visit_vec))\n",
    "        \n",
    "        \n",
    "        if stat_list[home_team] == \"None\":\n",
    "            stat_list[home_team] = home_vec\n",
    "        else:\n",
    "            \n",
    "            if stat_list[home_team].ndim == 1:\n",
    "                last_vec = stat_list[home_team]\n",
    "            else:\n",
    "                last_vec = stat_list[home_team][-1,0:18]\n",
    "                \n",
    "            if not np.array_equal(home_vec[0:18],last_vec):\n",
    "                if year >= 1:\n",
    "                    home_vec[18:26] = sum((stat_list[visit_team])[-10:,10:18])/10\n",
    "                stat_list[home_team] = np.vstack((stat_list[home_team],home_vec))"
   ]
  },
  {
   "cell_type": "code",
   "execution_count": 11,
   "metadata": {},
   "outputs": [
    {
     "data": {
      "text/plain": [
       "array([ 4.64000000e-01,  0.00000000e+00, -6.04430015e-02,  3.70612076e-01,\n",
       "       -2.01545831e-01, -2.56514415e-01, -4.67089129e-01, -8.94466511e-01,\n",
       "       -9.57653025e-01, -1.59570562e-01,  3.88162616e-01, -2.03040858e-02,\n",
       "       -5.37110055e-01, -7.03084879e-02,  4.78487052e-01,  1.89625542e-01,\n",
       "       -3.88439605e-03, -7.27470253e-01, -2.67975802e-02, -1.57124743e-01,\n",
       "        1.27598539e+00,  7.95549072e-01,  8.43209294e-01, -2.71928687e-02,\n",
       "       -9.92612589e-02,  7.49068944e-01,  2.00500000e+03,  1.30000000e+01])"
      ]
     },
     "execution_count": 11,
     "metadata": {},
     "output_type": "execute_result"
    }
   ],
   "source": [
    "stat_list[1][50,:]"
   ]
  },
  {
   "cell_type": "code",
   "execution_count": 12,
   "metadata": {},
   "outputs": [],
   "source": [
    "for team in range(len(teams)):\n",
    "    file_ref = \"./Stored NPs/Stats/team_{}.npy\".format(team)\n",
    "    np.save(file_ref,stat_list[team])\n",
    "    \n",
    "np.save(\"./Stored NPs/stat_means.npy\",means)\n",
    "np.save(\"./Stored NPs/stat_stds.npy\",stds)"
   ]
  },
  {
   "cell_type": "code",
   "execution_count": null,
   "metadata": {},
   "outputs": [],
   "source": []
  }
 ],
 "metadata": {
  "kernelspec": {
   "display_name": "Python 3",
   "language": "python",
   "name": "python3"
  },
  "language_info": {
   "codemirror_mode": {
    "name": "ipython",
    "version": 3
   },
   "file_extension": ".py",
   "mimetype": "text/x-python",
   "name": "python",
   "nbconvert_exporter": "python",
   "pygments_lexer": "ipython3",
   "version": "3.6.5"
  }
 },
 "nbformat": 4,
 "nbformat_minor": 2
}
